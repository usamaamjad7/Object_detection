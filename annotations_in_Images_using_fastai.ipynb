{
  "nbformat": 4,
  "nbformat_minor": 0,
  "metadata": {
    "colab": {
      "name": "annotations_in_Images_using_fastai.ipynb",
      "provenance": [],
      "collapsed_sections": []
    },
    "kernelspec": {
      "name": "python3",
      "display_name": "Python 3"
    },
    "language_info": {
      "name": "python"
    },
    "accelerator": "GPU"
  },
  "cells": [
    {
      "cell_type": "code",
      "metadata": {
        "id": "qOHW7yDq1ftC"
      },
      "source": [
        "!pip install fastai -q --upgrade"
      ],
      "execution_count": 1,
      "outputs": []
    },
    {
      "cell_type": "code",
      "metadata": {
        "colab": {
          "base_uri": "https://localhost:8080/"
        },
        "id": "hDgR9TH_1qnt",
        "outputId": "7b93d36a-9a58-4eeb-d43d-4037017e1550"
      },
      "source": [
        "!pip install pyyaml"
      ],
      "execution_count": 2,
      "outputs": [
        {
          "output_type": "stream",
          "text": [
            "Requirement already satisfied: pyyaml in /usr/local/lib/python3.7/dist-packages (3.13)\n"
          ],
          "name": "stdout"
        }
      ]
    },
    {
      "cell_type": "code",
      "metadata": {
        "id": "t6FjIGzI2AHN"
      },
      "source": [
        "from fastai  import *\n",
        "from fastai.vision.all import *\n",
        "from fastai.imports import *\n",
        "import yaml,cv2,os\n",
        "from torchvision import transforms as T\n",
        "from torchvision.transforms import functional as F"
      ],
      "execution_count": 3,
      "outputs": []
    },
    {
      "cell_type": "code",
      "metadata": {
        "id": "vuON8Lgr2rYM"
      },
      "source": [
        "root = Path(\"/content/data1\")"
      ],
      "execution_count": 6,
      "outputs": []
    },
    {
      "cell_type": "code",
      "metadata": {
        "id": "k6ItsWAE2rgu"
      },
      "source": [
        "os.mkdir(root)\n",
        "os.chdir(root)"
      ],
      "execution_count": 7,
      "outputs": []
    },
    {
      "cell_type": "code",
      "metadata": {
        "colab": {
          "base_uri": "https://localhost:8080/"
        },
        "id": "WfVOZTd42rij",
        "outputId": "a4de5872-cbe8-41f6-ec6b-dc0bef1385b3"
      },
      "source": [
        "!curl -L \"https://public.roboflow.com/ds/pK9BobmV9A?key=G9IUWXkCZA\" > roboflow.zip;unzip roboflow.zip; rm roboflow.zip"
      ],
      "execution_count": 8,
      "outputs": [
        {
          "output_type": "stream",
          "text": [
            "  % Total    % Received % Xferd  Average Speed   Time    Time     Time  Current\n",
            "                                 Dload  Upload   Total   Spent    Left  Speed\n",
            "100   897  100   897    0     0   1648      0 --:--:-- --:--:-- --:--:--  1645\n",
            "100 77.9M  100 77.9M    0     0  73.0M      0  0:00:01  0:00:01 --:--:-- 73.0M\n",
            "Archive:  roboflow.zip\n",
            " extracting: README.dataset.txt      \n",
            " extracting: README.roboflow.txt     \n",
            " extracting: data.yaml               \n",
            "   creating: test/\n",
            "   creating: test/images/\n",
            " extracting: test/images/0b47311f426ff926578c9d738d683e76_jpg.rf.0b55f43ac16aa65c889558d8ea757072.jpg  \n",
            " extracting: test/images/1c0060ef868bdc326ce5e6389cb6732f_jpg.rf.9ce88078ea356949f4ab7ad9cfdfc62d.jpg  \n",
            " extracting: test/images/2f6fb003bb89cd401322a535acb42f65_jpg.rf.91ad9df05bd1f86bab67c8368ae5e4ad.jpg  \n",
            " extracting: test/images/410993714e325a1de3e394ffe860df3a_jpg.rf.519bf0fdbd5e38cd44cae1cfebc98536.jpg  \n",
            " extracting: test/images/4e3117459d759798537eb52cf5bf534d_jpg.rf.5b99421bf416463a8c75cfd07f8a68d1.jpg  \n",
            " extracting: test/images/5a35ba2ec3e0d0b2b12b1758a8ac29aa_jpg.rf.a907af85301c729635d6ab1c31eb31b2.jpg  \n",
            " extracting: test/images/654bb8835258b26c466b1c19893df451_jpg.rf.95aad22d4dd31ab256cb2bcff02a34dd.jpg  \n",
            " extracting: test/images/685b860d412b91f5d4f7f9e643b84452_jpg.rf.5ba8dc0b5d2585d01b28089debd42cd6.jpg  \n",
            " extracting: test/images/73a38a5c8f8f1b09f093f304660d5326_jpg.rf.2d2fa2f4b419d9f2a57fb82d38d8bc6b.jpg  \n",
            " extracting: test/images/749e9074a77f8d34d86e2218f26cdab4_jpg.rf.8079f8abd9f24ec16e76fcbf18489f46.jpg  \n",
            " extracting: test/images/7a34d8620235048917b28bcfd3b5572b_jpg.rf.71653deb6fe88ad472dabea12353373d.jpg  \n",
            " extracting: test/images/8ff752f9ed443e6e49d495abfceb2032_jpg.rf.c3e91277eea99c26328e39a6f0285189.jpg  \n",
            " extracting: test/images/IMG_0159_JPG.rf.1cf4f243b5072d63e492711720df35f7.jpg  \n",
            " extracting: test/images/IMG_0169_JPG.rf.b1530b71278953ad465d06863135c71e.jpg  \n",
            " extracting: test/images/IMG_0170_JPG.rf.6e336797b63833d78997207d352a44fc.jpg  \n",
            " extracting: test/images/a3863d0be6002c21b20ac88817b2c56f_jpg.rf.e421134b139d57e02e7df9468a35c1fb.jpg  \n",
            " extracting: test/images/b4ff4132c8c85da97d8bf9a2a4ed3e3d_jpg.rf.51d1d3e2f2ae5b116c7daf5a304e75ad.jpg  \n",
            " extracting: test/images/b526b661a33ff481231d1342aff2a266_jpg.rf.b63c85ea45c4e3a665915fddee8c76f9.jpg  \n",
            " extracting: test/images/b9402881fa580d0eb8b9b98845417550_jpg.rf.087d716cdfdd9cf2cb65b437af716d4d.jpg  \n",
            " extracting: test/images/c4943d83c06a12ad5e0399d19514a4ca_jpg.rf.8b0040b3b68009f6f700ea28fb1aa491.jpg  \n",
            " extracting: test/images/c5a012dfa72816098d23fc8baee67834_jpg.rf.e3f72193f30138545bf762265f30083f.jpg  \n",
            " extracting: test/images/cf4769d0586df6b3fb0dc618d9f8abe6_jpg.rf.326565beb891e3656f7083109897a48b.jpg  \n",
            " extracting: test/images/cfc306bf86176b92ffc1afbb98d7896f_jpg.rf.a3779da7c72dfa583f9fffa23c231beb.jpg  \n",
            " extracting: test/images/d7887071e972604ddf5940d8eb2702e7_jpg.rf.9e1760bfa031e0f1b9ec48b6c0448994.jpg  \n",
            " extracting: test/images/e0d38d159ad3a801d0304d7e275812cc_jpg.rf.fa0bb8160816a373df824349a24a11e7.jpg  \n",
            " extracting: test/images/e4147f3d8819fc5d67a9f72596bd9e47_jpg.rf.ff3718b0109da4fea85bf6ff5631104c.jpg  \n",
            " extracting: test/images/e4583d082076b2b549b3736ad1b193c9_jpg.rf.be7ed36bb2bee36cf4edad46fdd4ec75.jpg  \n",
            " extracting: test/images/f1a24b6bb778ee11ba33687415aa84f2_jpg.rf.6e35192bbbb13f887540067e07d5d660.jpg  \n",
            " extracting: test/images/fdcd6ada676799da8a870f58fdf548db_jpg.rf.54abced68347da874d25c5d3886d3c4a.jpg  \n",
            "   creating: test/labels/\n",
            " extracting: test/labels/0b47311f426ff926578c9d738d683e76_jpg.rf.0b55f43ac16aa65c889558d8ea757072.txt  \n",
            " extracting: test/labels/1c0060ef868bdc326ce5e6389cb6732f_jpg.rf.9ce88078ea356949f4ab7ad9cfdfc62d.txt  \n",
            " extracting: test/labels/2f6fb003bb89cd401322a535acb42f65_jpg.rf.91ad9df05bd1f86bab67c8368ae5e4ad.txt  \n",
            " extracting: test/labels/410993714e325a1de3e394ffe860df3a_jpg.rf.519bf0fdbd5e38cd44cae1cfebc98536.txt  \n",
            " extracting: test/labels/4e3117459d759798537eb52cf5bf534d_jpg.rf.5b99421bf416463a8c75cfd07f8a68d1.txt  \n",
            " extracting: test/labels/5a35ba2ec3e0d0b2b12b1758a8ac29aa_jpg.rf.a907af85301c729635d6ab1c31eb31b2.txt  \n",
            " extracting: test/labels/654bb8835258b26c466b1c19893df451_jpg.rf.95aad22d4dd31ab256cb2bcff02a34dd.txt  \n",
            " extracting: test/labels/685b860d412b91f5d4f7f9e643b84452_jpg.rf.5ba8dc0b5d2585d01b28089debd42cd6.txt  \n",
            " extracting: test/labels/73a38a5c8f8f1b09f093f304660d5326_jpg.rf.2d2fa2f4b419d9f2a57fb82d38d8bc6b.txt  \n",
            " extracting: test/labels/749e9074a77f8d34d86e2218f26cdab4_jpg.rf.8079f8abd9f24ec16e76fcbf18489f46.txt  \n",
            " extracting: test/labels/7a34d8620235048917b28bcfd3b5572b_jpg.rf.71653deb6fe88ad472dabea12353373d.txt  \n",
            " extracting: test/labels/8ff752f9ed443e6e49d495abfceb2032_jpg.rf.c3e91277eea99c26328e39a6f0285189.txt  \n",
            " extracting: test/labels/IMG_0159_JPG.rf.1cf4f243b5072d63e492711720df35f7.txt  \n",
            " extracting: test/labels/IMG_0169_JPG.rf.b1530b71278953ad465d06863135c71e.txt  \n",
            " extracting: test/labels/IMG_0170_JPG.rf.6e336797b63833d78997207d352a44fc.txt  \n",
            " extracting: test/labels/a3863d0be6002c21b20ac88817b2c56f_jpg.rf.e421134b139d57e02e7df9468a35c1fb.txt  \n",
            " extracting: test/labels/b4ff4132c8c85da97d8bf9a2a4ed3e3d_jpg.rf.51d1d3e2f2ae5b116c7daf5a304e75ad.txt  \n",
            " extracting: test/labels/b526b661a33ff481231d1342aff2a266_jpg.rf.b63c85ea45c4e3a665915fddee8c76f9.txt  \n",
            " extracting: test/labels/b9402881fa580d0eb8b9b98845417550_jpg.rf.087d716cdfdd9cf2cb65b437af716d4d.txt  \n",
            " extracting: test/labels/c4943d83c06a12ad5e0399d19514a4ca_jpg.rf.8b0040b3b68009f6f700ea28fb1aa491.txt  \n",
            " extracting: test/labels/c5a012dfa72816098d23fc8baee67834_jpg.rf.e3f72193f30138545bf762265f30083f.txt  \n",
            " extracting: test/labels/cf4769d0586df6b3fb0dc618d9f8abe6_jpg.rf.326565beb891e3656f7083109897a48b.txt  \n",
            " extracting: test/labels/cfc306bf86176b92ffc1afbb98d7896f_jpg.rf.a3779da7c72dfa583f9fffa23c231beb.txt  \n",
            " extracting: test/labels/d7887071e972604ddf5940d8eb2702e7_jpg.rf.9e1760bfa031e0f1b9ec48b6c0448994.txt  \n",
            " extracting: test/labels/e0d38d159ad3a801d0304d7e275812cc_jpg.rf.fa0bb8160816a373df824349a24a11e7.txt  \n",
            " extracting: test/labels/e4147f3d8819fc5d67a9f72596bd9e47_jpg.rf.ff3718b0109da4fea85bf6ff5631104c.txt  \n",
            " extracting: test/labels/e4583d082076b2b549b3736ad1b193c9_jpg.rf.be7ed36bb2bee36cf4edad46fdd4ec75.txt  \n",
            " extracting: test/labels/f1a24b6bb778ee11ba33687415aa84f2_jpg.rf.6e35192bbbb13f887540067e07d5d660.txt  \n",
            " extracting: test/labels/fdcd6ada676799da8a870f58fdf548db_jpg.rf.54abced68347da874d25c5d3886d3c4a.txt  \n",
            "   creating: train/\n",
            "   creating: train/images/\n",
            " extracting: train/images/00bc0cacffdebe6b11bdeec56f63ee49_jpg.rf.fbcc3af401eca6bf01b4d031af33c1fc.jpg  \n",
            " extracting: train/images/0115e4df73475b550e5c6f7a88b2474f_jpg.rf.c759321c26b9bc9c38b31cd49533d350.jpg  \n",
            " extracting: train/images/02f0931b536dfba10affc3231a3d64fb_jpg.rf.3a714622550c2311f7843cd103a50be3.jpg  \n",
            " extracting: train/images/0301b7f9ed4d5ba503fda79fc4370c29_jpg.rf.fbdf213f256c973bcb79f186728a898f.jpg  \n",
            " extracting: train/images/03886821377011fec599e8fa12d86e89_jpg.rf.bca01af1df978ad9092f057443798ad0.jpg  \n",
            " extracting: train/images/03d3ff4582c8125d69c19a72f846bec8_jpg.rf.c4c2b8da2df7fad6565ec5a1ab9453a2.jpg  \n",
            " extracting: train/images/040f2bcba5afce3afafdd5bbf36d2ca5_jpg.rf.6e3358605c2734735af18f31e571692c.jpg  \n",
            " extracting: train/images/04aed88a8d23cf27e47806eb23948495_jpg.rf.985c4b231ab28487d4345ab040afb94c.jpg  \n",
            " extracting: train/images/055b79dd8db4c43e1a23be6095aaf624_jpg.rf.67a8ff4aee8a2f00af03b3f98977c676.jpg  \n",
            " extracting: train/images/05de676d5078dc0a13796f3f627993ef_jpg.rf.0a8e65da4f29d2a28325d3f020988eaf.jpg  \n",
            " extracting: train/images/06770ce99d4866165c0dfb104179c361_jpg.rf.d8685d4639672391538d33e57ff87a85.jpg  \n",
            " extracting: train/images/0798bfb058da59d189c1bfadcf814f29_jpg.rf.4b02423be86fa6dc14a4913de966a5dd.jpg  \n",
            " extracting: train/images/0b4ba28f0c759a11750a6430649b52e3_jpg.rf.c840c64b42f1edd63fd63024fed5ec8b.jpg  \n",
            " extracting: train/images/0cf670506bf9e0fe587647cd62caa232_jpg.rf.411e40b679800ecff1e2c440035e3722.jpg  \n",
            " extracting: train/images/0d9dbf62d5ee42b92bf55197bba4254d_jpg.rf.d6c9eae5e5bed8f41ba7302bcd00064e.jpg  \n",
            " extracting: train/images/104ec0199cb67e1a359b1b0845ee66f3_jpg.rf.be5abecc546e16851c415aaaa6119d2d.jpg  \n",
            " extracting: train/images/13106bbc80a01cc413c2ab5052d2ec25_jpg.rf.c0f851bdf9bd534e5d972ecf341aedb6.jpg  \n",
            " extracting: train/images/1595777dfa66e954ae23655743e24809_jpg.rf.ce144eded98c26dadbeca8e80df31963.jpg  \n",
            " extracting: train/images/1728cd731489df8bb8e0396e178fe393_jpg.rf.19f2e7a6596a0e98b9279154f1a31075.jpg  \n",
            " extracting: train/images/1877a28e4c5f5c1ea68aca66f4e85d95_jpg.rf.263a83e7c95a2a7b3df541c43f3bd3f3.jpg  \n",
            " extracting: train/images/196829feb704a34a4e471155f14bdd80_jpg.rf.9490ff7a9097c948107e432f3934b128.jpg  \n",
            " extracting: train/images/1a530d578f3f0bf3497bfeff3d953025_jpg.rf.e666096a1e6aef9c410fe0a5caff68a4.jpg  \n",
            " extracting: train/images/1a8a4abcba7c4ead35c01f05b9fae8e5_jpg.rf.8e60639ed4cbd253966be89b5a242834.jpg  \n",
            " extracting: train/images/1b4ccdf7d5ff45dc6c3885243bde5af2_jpg.rf.3ad9dc5fdd86856e5dc10e776f695818.jpg  \n",
            " extracting: train/images/22e74efb18b2d88fba63d25a61bf5f97_jpg.rf.72cda26bc69e8611a023dea25871bb26.jpg  \n",
            " extracting: train/images/23988893ef7381fece6d1ef32ef5428f_jpg.rf.c5e09b6b2996b5453a95e7facd4b4683.jpg  \n",
            " extracting: train/images/239c409d5c09b493fed01a70a3cda4bc_jpg.rf.a745921b91958a16c18c92b259aca5ea.jpg  \n",
            " extracting: train/images/247f9cf35a263dc7dd7886b187fd5480_jpg.rf.d77e03ae61805408a2c3f81f2217d3ca.jpg  \n",
            " extracting: train/images/254f92b18b2a81f88b85e7aed3cabc61_jpg.rf.a5d3749856054f63addc3c8282336d11.jpg  \n",
            " extracting: train/images/26d663ab5ffbec49f9dc8e592982cfd4_jpg.rf.b18d279ba4125fd80a1d12ac0e771a97.jpg  \n",
            " extracting: train/images/285d7c487a4e20ad832a74acb527b77f_jpg.rf.8925934caf22a38a85af6fd60453f502.jpg  \n",
            " extracting: train/images/292b0ddcacad7de06a628980954b6993_jpg.rf.c44c0299e2b2a05ba93ceadcd8e8568a.jpg  \n",
            " extracting: train/images/2c32afd520cc8bf076dfa5b6e2e1c4c1_jpg.rf.e9ad14fa3330976595bbd5162e607641.jpg  \n",
            " extracting: train/images/2ee0fd0963465ba29d8f27c6e605c55d_jpg.rf.416ed5a06f9bae303c04fb48287f167f.jpg  \n",
            " extracting: train/images/2fe75c34fd54e960146fb8b0ad8b3fd6_jpg.rf.9b91df20f1a711da331d1878d5687f13.jpg  \n",
            " extracting: train/images/300f80826bbb7dc4bf83e148614f2f77_jpg.rf.4a030c3f3f66357883fd1b9ae35cb892.jpg  \n",
            " extracting: train/images/3057eba7e9b0221ddbdc96a01f39ab79_jpg.rf.99cea19d83ccb4944b34919888dd0b71.jpg  \n",
            " extracting: train/images/3091c9b25d76e9cbd0af83ced9f354e5_jpg.rf.a96c979a388355dec7d4f832c0027f12.jpg  \n",
            " extracting: train/images/31419854b103ca6becc4cc394c449e95_jpg.rf.11b00b871f708bbe4d1421a0d9bc9daa.jpg  \n",
            " extracting: train/images/3161933dffedf8a859d6623a99492c53_jpg.rf.c58eabf189045a84e3c4389cebbcb9ec.jpg  \n",
            " extracting: train/images/3474d785b1b21d68163f56aa00a92bc9_jpg.rf.6bd40b33320a982005920d6d2d680c64.jpg  \n",
            " extracting: train/images/34ad1966ae7a17d4502ca141413ed8d2_jpg.rf.537d7ed41b558d70e1324f7ca1852ae0.jpg  \n",
            " extracting: train/images/36066ba85572ce99198f1a21c2c8bbff_jpg.rf.0b8c6b6b4c05ac617ba42138acb75757.jpg  \n",
            " extracting: train/images/3730ef213ac6aad431475a9ab28f349a_jpg.rf.f5f1fbb4d67fe92ce0d9acaa098cf5ac.jpg  \n",
            " extracting: train/images/3796db002cba7265bd32b0161ddd9127_jpg.rf.d39211b0dcef15258c6b963af339174e.jpg  \n",
            " extracting: train/images/37fe05bcf7d8568a9e55b569afdbccbd_jpg.rf.cf1a8be3a1ab89adc512c7969c0f1858.jpg  \n",
            " extracting: train/images/383c2ed7bbe2d327ab55a871db497c33_jpg.rf.52c7e74ebf109fe309e4b5c4def80ab7.jpg  \n",
            " extracting: train/images/389b4c47568c78c44df11dbb1377ffea_jpg.rf.cf94bc4ad387c2217d8cdf5402adcc1b.jpg  \n",
            " extracting: train/images/38f26ee82e38d332b2a831aa47bd363b_jpg.rf.69b9f7a3e7a10d7cdea51d7d7f01ba63.jpg  \n",
            " extracting: train/images/3914be0cea4aa8a6bbd1081ec3b034a7_jpg.rf.683bc62edd79c5db6b8b1dffcefc8d3f.jpg  \n",
            " extracting: train/images/3bab0eaaeb63a2ac9ae4942df4006a25_jpg.rf.1e2bc93d96300515f87808e09a5dd9a0.jpg  \n",
            " extracting: train/images/3e8fb24addda1a0945bd6b7777bc4018_jpg.rf.ec3432947d47720924cbb0dbf51956ba.jpg  \n",
            " extracting: train/images/446e75de1ffefc2115e79696bcf0e357_jpg.rf.3515dc451efed9a872f9268f3e9eb744.jpg  \n",
            " extracting: train/images/4667110b61b16e786673ed6126ccc35d_jpg.rf.8dd3ddf202a5cb346771cb4461f82884.jpg  \n",
            " extracting: train/images/479459fe5c8213a84fd55ba82f2670b1_jpg.rf.f481d875b91a96ca7982bfb5ba10e167.jpg  \n",
            " extracting: train/images/47e842dd95735a11cf92c0ddf1161193_jpg.rf.fa045b4cdedb6dbeea6226d5e5d58a5c.jpg  \n",
            " extracting: train/images/4807629b8df9c7eb4366b7feccd72e6a_jpg.rf.7d7f1b6fcb45b82fca8e8d6ce7ae33a9.jpg  \n",
            " extracting: train/images/4894f034a55eaa9252cd261a62b11d27_jpg.rf.5821daba2605c369ab52a6c1d3485b2a.jpg  \n",
            " extracting: train/images/48d3c59a99b2b5a5b9f1eb7d5ba63b60_jpg.rf.4360a206e865320f4f5dddea12152bf6.jpg  \n",
            " extracting: train/images/48e115dcbf1b3a67ca47a75a92da3f33_jpg.rf.b7f219d6adc0b92d43dc62bd98ee752b.jpg  \n",
            " extracting: train/images/4939035108d04ee672570a7cc937e270_jpg.rf.6fade1d3dc27011193c2fa8b9c10bd12.jpg  \n",
            " extracting: train/images/49c2afbbe5726160b289f7c0c62cdace_jpg.rf.018249b80783dd42d0d23496d4830902.jpg  \n",
            " extracting: train/images/49d365236ee4fb6bd982b0f00bff007e_jpg.rf.a2679c37a0afa53ab1a9394ff0585f46.jpg  \n",
            " extracting: train/images/49f78dc9aaeadd0c76ed2def75c358f3_jpg.rf.06d058407b83ba70ad2e41656d9d2195.jpg  \n",
            " extracting: train/images/4ae38537a74c5ed10d5223f8066659fc_jpg.rf.b8e4020f3f188e6ebe715200d8db0c27.jpg  \n",
            " extracting: train/images/4bf38c062fa7b5796d15ba90d6c3a456_jpg.rf.ca8cb7f5c79fb302acc4a6bd81e0b9a6.jpg  \n",
            " extracting: train/images/4d6b667ecbd41ebd603b38848366d9d0_jpg.rf.e51e6ab1c441b8766bf8503333a69db9.jpg  \n",
            " extracting: train/images/4d7820ad9fb4fe69d5168e1d7317dd02_jpg.rf.877766bf8a749843720f86abf3056207.jpg  \n",
            " extracting: train/images/4de23afff63bc169b4ebe547a9c9b692_jpg.rf.3c9bf54ca2de480c19e30d7808e4a2f6.jpg  \n",
            " extracting: train/images/4eb630d4dd38528dacf72355caf5c06d_jpg.rf.192a83d78be33d7b7f4a5bdc1b47702f.jpg  \n",
            " extracting: train/images/53de0674524ae6d77bdfff48136dec2a_jpg.rf.e3110b74dc7e779b42cf28f66c70a5d5.jpg  \n",
            " extracting: train/images/54a90aab8c73562975cc560d51a9d2d1_jpg.rf.27c69714af4c78fdd6f390a4def1e4a3.jpg  \n",
            " extracting: train/images/5758322233deed7ae7adc23536db2a4f_jpg.rf.8999db6b1f2c3f65d582bc066a6c55c5.jpg  \n",
            " extracting: train/images/5825608dccde6544eef91822136079d0_jpg.rf.7c4ac226ecdf109b9b74f91cefc46dde.jpg  \n",
            " extracting: train/images/59727dce26aaa6100078810b61404069_jpg.rf.d0c247bc8da0897e492a48e773adf35c.jpg  \n",
            " extracting: train/images/5a8433ec79c881f84ef19a07dc73665d_jpg.rf.2f0c3c38d635f03ea39475fd078c3414.jpg  \n",
            " extracting: train/images/5cecd3b3946aac5c713a51e0bd4617c9_jpg.rf.b0e3d523923d0224d5f5faa66949b7aa.jpg  \n",
            " extracting: train/images/5e71cb8d41c333a18e799ef0004b040c_jpg.rf.57a1424a00d13826fe3e771dd404ceff.jpg  \n",
            " extracting: train/images/614811e933a680fd6535ac8bf06bf530_jpg.rf.ace44d36688dfecc17409089f7d0720f.jpg  \n",
            " extracting: train/images/614aadadb4a7f5b475b027b8e11398ee_jpg.rf.e3506223ffe7f4878bc357cdc1f33cd2.jpg  \n",
            " extracting: train/images/61567b97353acc18ba9e8aac0f111326_jpg.rf.69222b87f379416d71b28d07b4914777.jpg  \n",
            " extracting: train/images/6179b463c8f503445e213b706d2a4de5_jpg.rf.8882e7b1020797df38ea13e02e43a69c.jpg  \n",
            " extracting: train/images/6403b91d63799cb9b5531c47b195d088_jpg.rf.77da8d8e3bc7557ac1396d597f5759c5.jpg  \n",
            " extracting: train/images/6589f4cfb37439d7d276f0d70f7ee1f0_jpg.rf.8d4dabde24fa1a51f62ebf8ae0ce02e6.jpg  \n",
            " extracting: train/images/65ba27557c78850168b1df70a3ce4ff7_jpg.rf.223d0d2c45a4796a00809534807bfea2.jpg  \n",
            " extracting: train/images/66f3c2c7c10a9263de9c6e056ba5c1b9_jpg.rf.9e391887b9da6213f12999e1628558bb.jpg  \n",
            " extracting: train/images/673bcd0d44f495fbe9dd88d5cacfceb3_jpg.rf.4c5902b014a2bdaf3057a3c74b6a44a2.jpg  \n",
            " extracting: train/images/675619f2c8078824cfd182cec2eeba95_jpg.rf.223c4b81b8fa7e3bd7a24577a10a5382.jpg  \n",
            " extracting: train/images/699edbacbfee5e6d4d6d2189bc88990a_jpg.rf.26706a6cf9de8ec15a6bdb7e53e6173c.jpg  \n",
            " extracting: train/images/6ba74e310dd824af891d057d674cedb9_jpg.rf.d5ce8eb38bcd1353757d902b6c07c670.jpg  \n",
            " extracting: train/images/6bb6f7cb96bf37230681d12ff7882f61_jpg.rf.f367c0f54253444f9c2f8f8968a1a47f.jpg  \n",
            " extracting: train/images/6f0a888f9e5aed9516e336fd04723ce1_jpg.rf.284ac83a4d78d901e17b6ca1f8d6222a.jpg  \n",
            " extracting: train/images/6f0de9b594de9f9b92c6a20daa51a28a_jpg.rf.bc6c392807dacf7a8a84cae9c09acd03.jpg  \n",
            " extracting: train/images/759a86e63667ca033255c4ab438dd392_jpg.rf.7ce77a0061d42d49bf91a4329cafdc59.jpg  \n",
            " extracting: train/images/76d01bada90581f55f1ae64c062cafcf_jpg.rf.d8d268060aa9f6fd260d483b10ac6a04.jpg  \n",
            " extracting: train/images/76dbe2ccf986a2a0d399d3d8a47279ad_jpg.rf.581770ac7f3816d67c2431339bc65592.jpg  \n",
            " extracting: train/images/76e118acf05a8ebe06957f8882cc06aa_jpg.rf.355e39cef189edb061cf20d6e59d42db.jpg  \n",
            " extracting: train/images/79e744a68d6e6f83be0a9e8761ea66a4_jpg.rf.433e4079f552b8e2c261a6a3052f30cd.jpg  \n",
            " extracting: train/images/7df16cd59fb40e0691948cc805e4801b_jpg.rf.c439322b6c3c711ba67ace0c0f3ebffe.jpg  \n",
            " extracting: train/images/7ee8d13861bdc45e40a7cfe190a8d8a6_jpg.rf.67d658f56e627e74416bc18ec92107c2.jpg  \n",
            " extracting: train/images/81f5c542ffe0f9eae4df59d29acbcced_jpg.rf.99b5d8d7a1f3fa6cbb6e9ecfb5e3d8b3.jpg  \n",
            " extracting: train/images/859e7157c6d544236a67463c08169b6e_jpg.rf.bdb4426cf64b8f8c1e1d693a1df74b76.jpg  \n",
            " extracting: train/images/8678864272a0a04c4c65ca96324105b4_jpg.rf.90118317e342f59a5e18a9c460e72a99.jpg  \n",
            " extracting: train/images/871597c145446cf58c1c2dd7db988864_jpg.rf.6cecb51bef82f71cd395832fa16411ba.jpg  \n",
            " extracting: train/images/889c420fb266b8d0e817306110042bda_jpg.rf.02d22a79820be51228296021ad0b6bbb.jpg  \n",
            " extracting: train/images/8967433350d3b3043902603430fccaab_jpg.rf.0e119efea84f75200b18702781a169ba.jpg  \n",
            " extracting: train/images/8bb72e70f0560095885586deba37a524_jpg.rf.436c6acb4c9d0a040b6a86ad0a41e770.jpg  \n",
            " extracting: train/images/8d6f722eadc015a393bd490f9b7a85e6_jpg.rf.85a7f0c7d2d1b7ce90664ff35b84fe8d.jpg  \n",
            " extracting: train/images/8d796de64b9eed1ffd5ebe550d4ca807_jpg.rf.bcadbba8ab4a943a30062047dd9951be.jpg  \n",
            " extracting: train/images/8dd12470c30e3b265e8933a6fee7ad28_jpg.rf.a583ec04d3044992cfd9acbebea7aa95.jpg  \n",
            " extracting: train/images/8de03901c64a80070048ead3fb0d32bd_jpg.rf.d4cd4d7336cee96c7c01731c6f3b81cd.jpg  \n",
            " extracting: train/images/8f84f1945fd993facc3368d13345f333_jpg.rf.3286223477d0f45d03a6a9854b7ff4a6.jpg  \n",
            " extracting: train/images/8ff64b3f770bfe96bdffc629efd16460_jpg.rf.f14ad67cdd66b17692929139aef233d6.jpg  \n",
            " extracting: train/images/9146a6989dac08f1769e677064ebfb49_jpg.rf.21c3f74a60d73237ceb25280df5cebe8.jpg  \n",
            " extracting: train/images/92992ff9c823e0420bf17e71db9ef4ef_jpg.rf.73292c1560eefbd1a84212b43be8d424.jpg  \n",
            " extracting: train/images/93557fc861304f7753089c244bc1e33e_jpg.rf.15d07a278e4c1061b2d99a2b95ff9921.jpg  \n",
            " extracting: train/images/969daa72bd7804ea1212e191820249b0_jpg.rf.9ac5120ab4af0484ace560bea2c39a7c.jpg  \n",
            " extracting: train/images/97aeb1f9b745a929e9ac0848acb53a1a_jpg.rf.a37313f9380bde8e4827749f1dba6d7c.jpg  \n",
            " extracting: train/images/9962a4d44388b9008aa0f466e4f4052c_jpg.rf.faa4d33a45e46b53fcc8f751377a8160.jpg  \n",
            " extracting: train/images/998222d9c93f1640829d4f0032dbf3e8_jpg.rf.28adf4b8b45dc5d0011897ab15e9419f.jpg  \n",
            " extracting: train/images/99ee6574b2a7afc0bb06269bbcf49a4c_jpg.rf.64986b73afba1223e13eadbd9b0fdb27.jpg  \n",
            " extracting: train/images/9a6b61a6d3b3e3ecddc201b097aa02d1_jpg.rf.d5534a244c0a9972da49c08b89f83f75.jpg  \n",
            " extracting: train/images/9c153a9c9798dab948d4260eb109b315_jpg.rf.8db7f32aeb3c84a69b2a7d79b921fc5b.jpg  \n",
            " extracting: train/images/9c5fb0c3cfd7b334a247cd87c139e8e6_jpg.rf.588e9ea4bfffb48edc0f99b7af98c96f.jpg  \n",
            " extracting: train/images/9d776e74e90c4f8092b060dd7567e2f8_jpg.rf.b70c4c285edf5789719b8f7bddac3ddc.jpg  \n",
            " extracting: train/images/9e943906fba1ec89edfacb2dd7976504_jpg.rf.aa1f7ea2f8c95e89aa701d9f87056330.jpg  \n",
            " extracting: train/images/9fc54a45feb5b01db8f6828d181fb075_jpg.rf.04e7c11036b566a522bc317e86e5ab6a.jpg  \n",
            " extracting: train/images/IMG_0166_JPG.rf.f228ddaecf7848a0520e929807b35af4.jpg  \n",
            " extracting: train/images/IMG_0167_JPG.rf.661ad368ce42cadb9dc497ceaa07e777.jpg  \n",
            " extracting: train/images/IMG_0291_JPG.rf.a72d476f25b25f6ef3f768e5876c2a55.jpg  \n",
            " extracting: train/images/IMG_0292_JPG.rf.dae866a073c030671cc199d0d06353e4.jpg  \n",
            " extracting: train/images/IMG_0294_JPG.rf.b7ae411904ff022e80b90f6267535f05.jpg  \n",
            " extracting: train/images/IMG_0295_JPG.rf.8abd802272b965c843eb1ecbc8df4abc.jpg  \n",
            " extracting: train/images/IMG_0296_JPG.rf.818119ea873100bb120049c72da67cbd.jpg  \n",
            " extracting: train/images/IMG_0297_JPG.rf.2609f7e3ad4d54b19aafc0623f5a8510.jpg  \n",
            " extracting: train/images/IMG_0298_JPG.rf.388fb04c02f369a0c79a524343fe590c.jpg  \n",
            " extracting: train/images/IMG_0299_JPG.rf.7d92f1ba0929b7fc5e77848b80148fc6.jpg  \n",
            " extracting: train/images/IMG_0317_JPG.rf.b9135e07e62170150fc67bc1f25b0d3c.jpg  \n",
            " extracting: train/images/IMG_0318_JPG.rf.37a8faa6e2f4efc18f2113466c1ec320.jpg  \n",
            " extracting: train/images/a20eb4bb3cea2e394cfcf9ed969b628e_jpg.rf.9d2528623e7939a30ec82e76cac3df47.jpg  \n",
            " extracting: train/images/a4028b2361ce7ead654a86b07ac39d52_jpg.rf.03a20a2a674a95ceb6c61a5e531e8ca6.jpg  \n",
            " extracting: train/images/a4ebf4c268d80c4fe329331ea981b3a1_jpg.rf.d7e764e24afbdced1e4f8848f249bdfc.jpg  \n",
            " extracting: train/images/a5c65b40e0be3480c0ecfacaab399a87_jpg.rf.667ef27bf19775d48f8acf8dad04fa26.jpg  \n",
            " extracting: train/images/a8847f8fe8eaaa1c97bf83027a901760_jpg.rf.116b33357951f46fbbe0d5437561f61b.jpg  \n",
            " extracting: train/images/a932287da44b9dfacd0d16a5c1d27923_jpg.rf.b0950400898d51ce08945ad5c770ab03.jpg  \n",
            " extracting: train/images/a9768de3fceeeae2618f362870fb9a88_jpg.rf.055c7088ca1c11c42bcafa4950f2572f.jpg  \n",
            " extracting: train/images/a9987cf6cc5c6545818ec294d4a5bb9b_jpg.rf.21f51fbefe01648bbbb01e0d207c3843.jpg  \n",
            " extracting: train/images/b0f3d66c8be13f5f6aa25b67a06bdcfa_jpg.rf.30cc54e5f0d02160a2da3f6da04a9653.jpg  \n",
            " extracting: train/images/b3b002461f1c6b432e22964549767e5f_jpg.rf.6164bf4eadfd3dcb7f7ee2a2bd0764c2.jpg  \n",
            " extracting: train/images/b5102d7f9740eee7754ed268becb2163_jpg.rf.28a72d037ac692cc90b96708b1b05316.jpg  \n",
            " extracting: train/images/b5bcde459ca36f0d1f3c20e751336672_jpg.rf.0c6010e1e0afa0ff49d14eef51b5e6c8.jpg  \n",
            " extracting: train/images/b79ae5b70de58089ead6e32b235e30d3_jpg.rf.68c670de3208dc56613dc9b9f65ec934.jpg  \n",
            " extracting: train/images/b7a8c7de4fe1382d69f58ac97e819b5c_jpg.rf.d3b1cfbb0c618d6afff8ea3b96c4d331.jpg  \n",
            " extracting: train/images/bb54af2f0b83b174aecc29328c8fa001_jpg.rf.38630287afd7ffe84cd9468138ab7485.jpg  \n",
            " extracting: train/images/bc5decab88861286dcf78a367b4377cb_jpg.rf.c3e51d3ab678f7b49912e57cfd3d161c.jpg  \n",
            " extracting: train/images/beb11566e59775b61f0ca369952067cc_jpg.rf.726ac46a167828c2e34ad77f7abf895e.jpg  \n",
            " extracting: train/images/c0d68e012bb93c14bc333fc1d5e52621_jpg.rf.47fcf95dac60ca78902fc86cca7eab28.jpg  \n",
            " extracting: train/images/c3e9e81ba1540aae7961a4d8d96600ba_jpg.rf.deda5846f9437d81262d2e25f5808e36.jpg  \n",
            " extracting: train/images/c46bf04050a2a9323dfe563e8813602f_jpg.rf.634c5d0d551ab2b7c2554e4ce3c6aacb.jpg  \n",
            " extracting: train/images/c733616ab773817dd1a356dbbdf2ee33_jpg.rf.02fcb1d459e55b398bd4cc4edbd3bd10.jpg  \n",
            " extracting: train/images/c76c79e40bd9839a05237934cfa89ca3_jpg.rf.747f4292a1bb980bc392a787a773a0f1.jpg  \n",
            " extracting: train/images/c7890b749d14d3488066cbdfac4620fd_jpg.rf.eed3f658d1c9c65acfbcad5219f70716.jpg  \n",
            " extracting: train/images/ca869123d8a0cbcc6e54f4a445e5a78a_jpg.rf.de66695493176269696ee36a61dee1dc.jpg  \n",
            " extracting: train/images/cae099fe41d6aa30033d71e433c33c8d_jpg.rf.e346e0084281a8f6b63bbfeb576d1fc0.jpg  \n",
            " extracting: train/images/ce54969567273b9b8a275812ff56e16c_jpg.rf.af61be71f696438c30dc9bd87d299bd6.jpg  \n",
            " extracting: train/images/cf2784fa97151d5316b2961b1e62dc45_jpg.rf.d728eed31f107b29e913a6b2ad1f751a.jpg  \n",
            " extracting: train/images/d079f4e77b2445abceca7534356db743_jpg.rf.f7ee65ab8c16d3c9028443faaaf40ee2.jpg  \n",
            " extracting: train/images/d0cc2420bce5b14dfd39e55dc3737e57_jpg.rf.3914cdc1a02f2972d5316062da6f285f.jpg  \n",
            " extracting: train/images/d29148a2233950a7777285281cbfccff_jpg.rf.d23b4f180eb3b539d7ed88e2f4beb2cd.jpg  \n",
            " extracting: train/images/d33c33de41dbe1a95a43212c58fd12b7_jpg.rf.cdd968f5b7c71aa6ef1c732c4079c262.jpg  \n",
            " extracting: train/images/d3a4e1b8f13ef89f419251f5c5839d0d_jpg.rf.0c0623ed3bb8531690b2fbc7822d57bd.jpg  \n",
            " extracting: train/images/d415969922564f317be0d1433330626f_jpg.rf.1271853558336c8d9c5414b3a0466b8f.jpg  \n",
            " extracting: train/images/d494cb268ad7f9f55587de138edc1dc4_jpg.rf.b1bd99204b2ceacbda5bafa452a4d732.jpg  \n",
            " extracting: train/images/d67b5b9e900409b050dd9bd594f90709_jpg.rf.e07557fe78a4af8f4213b7c50edcc48e.jpg  \n",
            " extracting: train/images/d795f84f39716798482fb2937868ed8a_jpg.rf.57b7e9ee15d277b2694fdb94549a1487.jpg  \n",
            " extracting: train/images/d9acc69c5d57623cda22786e309201c9_jpg.rf.d37b5a883d97f31d33db5281c8ae0395.jpg  \n",
            " extracting: train/images/dd6b5c3cb2d7e77f38f1dfeb2bff0431_jpg.rf.f1dd1da676bf315e684a8e3a2ebbb82c.jpg  \n",
            " extracting: train/images/ddad9dc4d945006d66f5349d64498559_jpg.rf.cbac3a32273efcef96c08a2b0df10485.jpg  \n",
            " extracting: train/images/de60ba81aa78387928e4bdc11f3be301_jpg.rf.0cd8adb84fce0b83ee30a5fbdb4c1c4b.jpg  \n",
            " extracting: train/images/e40003d4bbcdac7196b9502bfe2fb6ed_jpg.rf.a92a3ed23c63f90ce84648a564f2a287.jpg  \n",
            " extracting: train/images/e6e3a2ff2c75970490079f00136885ad_jpg.rf.276c0ec51830ae8741a3e31c7f703638.jpg  \n",
            " extracting: train/images/e79deba8fe520409790b601ad61da4ee_jpg.rf.8cd55f2548d15a4c111f0a980d3ee4fe.jpg  \n",
            " extracting: train/images/e8480d7fb9881d8a0e88b7be4d103f6d_jpg.rf.eba2e44135388fd198939d843dca7e13.jpg  \n",
            " extracting: train/images/ea799d77875c399618c45cd9409f34ee_jpg.rf.077cbf5dc80bdc0bf0f59ddd6ce6f69e.jpg  \n",
            " extracting: train/images/eb9e7928e756c3cf9164e7afc08c4653_jpg.rf.77ace05280bcb7d839ab4cf9d586dfa2.jpg  \n",
            " extracting: train/images/ec4c30d88ecc70b6a3e76dbd9b17324a_jpg.rf.34d31473728f2b9a68bb71a3f40e1d6f.jpg  \n",
            " extracting: train/images/ec5ab1930d6aa16fff2582b48f82cada_jpg.rf.3164acc59bd3a1cade16f72b1f6e368a.jpg  \n",
            " extracting: train/images/edd285915356686fb53fb52c1ded0e53_jpg.rf.5104c70947989766361c9335d2f39d37.jpg  \n",
            " extracting: train/images/ef1d425fd5370fbf8b7adea43b755304_jpg.rf.4d4fe734367a2a5905da11a49184c767.jpg  \n",
            " extracting: train/images/f02d615907c77dc15f02bd1372e4398f_jpg.rf.714211d55651f47944d10b81622f1d39.jpg  \n",
            " extracting: train/images/f041d3171dfe3137390c85fc5437e447_jpg.rf.21a114abb3e64a6a241b6f7bdd0d8b9a.jpg  \n",
            " extracting: train/images/f1ea0167087976926d4fe0aa36b961ce_jpg.rf.245c4d4e37e289bbd69b90b60e6ee9bc.jpg  \n",
            " extracting: train/images/f2672cdc28767484b556da3ab6f1003e_jpg.rf.4397bb19b736490287e271bcf760ca16.jpg  \n",
            " extracting: train/images/f3302c754c6fd42130014199ee327d10_jpg.rf.0bef2494f0a7ebf9afda6b7688cf68b0.jpg  \n",
            " extracting: train/images/f3a5df526393445c6e2d38f66c1f5c27_jpg.rf.5c9ad833e2df809f6a0107ca7dd020ab.jpg  \n",
            " extracting: train/images/f52e1873b8583f8bf4f7ddf6e9649f07_jpg.rf.48248922519cd3c8f36539bc09dd8528.jpg  \n",
            " extracting: train/images/f587402be410b424bcbbac06e1dc6162_jpg.rf.a88d82401d5b97453bc047b92048ca39.jpg  \n",
            " extracting: train/images/f9a9a175f26d4b26bca3a5338cc1405e_jpg.rf.ec1a436f709ef7dc2e4f1fd3c9f6355e.jpg  \n",
            " extracting: train/images/fa3cf2724c1648a8822b59ac0759475f_jpg.rf.8b23c032ccc0fd6484f9d390cb6a2b9c.jpg  \n",
            " extracting: train/images/fa4e2b9a8cf58f405f69a56c662834f2_jpg.rf.9c9fb84a36bdfc518396a26a21758f9c.jpg  \n",
            " extracting: train/images/fb586797e8ad818c7e3e3a6411f73d84_jpg.rf.ad548be54dbd7087c07afbaa78746786.jpg  \n",
            " extracting: train/images/fc9d7bc0453cb3324406401c00224d30_jpg.rf.da31aaeddba327ec61dea2b7f515e62b.jpg  \n",
            "   creating: train/labels/\n",
            " extracting: train/labels/00bc0cacffdebe6b11bdeec56f63ee49_jpg.rf.fbcc3af401eca6bf01b4d031af33c1fc.txt  \n",
            " extracting: train/labels/0115e4df73475b550e5c6f7a88b2474f_jpg.rf.c759321c26b9bc9c38b31cd49533d350.txt  \n",
            " extracting: train/labels/02f0931b536dfba10affc3231a3d64fb_jpg.rf.3a714622550c2311f7843cd103a50be3.txt  \n",
            " extracting: train/labels/0301b7f9ed4d5ba503fda79fc4370c29_jpg.rf.fbdf213f256c973bcb79f186728a898f.txt  \n",
            " extracting: train/labels/03886821377011fec599e8fa12d86e89_jpg.rf.bca01af1df978ad9092f057443798ad0.txt  \n",
            " extracting: train/labels/03d3ff4582c8125d69c19a72f846bec8_jpg.rf.c4c2b8da2df7fad6565ec5a1ab9453a2.txt  \n",
            " extracting: train/labels/040f2bcba5afce3afafdd5bbf36d2ca5_jpg.rf.6e3358605c2734735af18f31e571692c.txt  \n",
            " extracting: train/labels/04aed88a8d23cf27e47806eb23948495_jpg.rf.985c4b231ab28487d4345ab040afb94c.txt  \n",
            " extracting: train/labels/055b79dd8db4c43e1a23be6095aaf624_jpg.rf.67a8ff4aee8a2f00af03b3f98977c676.txt  \n",
            " extracting: train/labels/05de676d5078dc0a13796f3f627993ef_jpg.rf.0a8e65da4f29d2a28325d3f020988eaf.txt  \n",
            " extracting: train/labels/06770ce99d4866165c0dfb104179c361_jpg.rf.d8685d4639672391538d33e57ff87a85.txt  \n",
            " extracting: train/labels/0798bfb058da59d189c1bfadcf814f29_jpg.rf.4b02423be86fa6dc14a4913de966a5dd.txt  \n",
            " extracting: train/labels/0b4ba28f0c759a11750a6430649b52e3_jpg.rf.c840c64b42f1edd63fd63024fed5ec8b.txt  \n",
            " extracting: train/labels/0cf670506bf9e0fe587647cd62caa232_jpg.rf.411e40b679800ecff1e2c440035e3722.txt  \n",
            " extracting: train/labels/0d9dbf62d5ee42b92bf55197bba4254d_jpg.rf.d6c9eae5e5bed8f41ba7302bcd00064e.txt  \n",
            " extracting: train/labels/104ec0199cb67e1a359b1b0845ee66f3_jpg.rf.be5abecc546e16851c415aaaa6119d2d.txt  \n",
            " extracting: train/labels/13106bbc80a01cc413c2ab5052d2ec25_jpg.rf.c0f851bdf9bd534e5d972ecf341aedb6.txt  \n",
            " extracting: train/labels/1595777dfa66e954ae23655743e24809_jpg.rf.ce144eded98c26dadbeca8e80df31963.txt  \n",
            " extracting: train/labels/1728cd731489df8bb8e0396e178fe393_jpg.rf.19f2e7a6596a0e98b9279154f1a31075.txt  \n",
            " extracting: train/labels/1877a28e4c5f5c1ea68aca66f4e85d95_jpg.rf.263a83e7c95a2a7b3df541c43f3bd3f3.txt  \n",
            " extracting: train/labels/196829feb704a34a4e471155f14bdd80_jpg.rf.9490ff7a9097c948107e432f3934b128.txt  \n",
            " extracting: train/labels/1a530d578f3f0bf3497bfeff3d953025_jpg.rf.e666096a1e6aef9c410fe0a5caff68a4.txt  \n",
            " extracting: train/labels/1a8a4abcba7c4ead35c01f05b9fae8e5_jpg.rf.8e60639ed4cbd253966be89b5a242834.txt  \n",
            " extracting: train/labels/1b4ccdf7d5ff45dc6c3885243bde5af2_jpg.rf.3ad9dc5fdd86856e5dc10e776f695818.txt  \n",
            " extracting: train/labels/22e74efb18b2d88fba63d25a61bf5f97_jpg.rf.72cda26bc69e8611a023dea25871bb26.txt  \n",
            " extracting: train/labels/23988893ef7381fece6d1ef32ef5428f_jpg.rf.c5e09b6b2996b5453a95e7facd4b4683.txt  \n",
            " extracting: train/labels/239c409d5c09b493fed01a70a3cda4bc_jpg.rf.a745921b91958a16c18c92b259aca5ea.txt  \n",
            " extracting: train/labels/247f9cf35a263dc7dd7886b187fd5480_jpg.rf.d77e03ae61805408a2c3f81f2217d3ca.txt  \n",
            " extracting: train/labels/254f92b18b2a81f88b85e7aed3cabc61_jpg.rf.a5d3749856054f63addc3c8282336d11.txt  \n",
            " extracting: train/labels/26d663ab5ffbec49f9dc8e592982cfd4_jpg.rf.b18d279ba4125fd80a1d12ac0e771a97.txt  \n",
            " extracting: train/labels/285d7c487a4e20ad832a74acb527b77f_jpg.rf.8925934caf22a38a85af6fd60453f502.txt  \n",
            " extracting: train/labels/292b0ddcacad7de06a628980954b6993_jpg.rf.c44c0299e2b2a05ba93ceadcd8e8568a.txt  \n",
            " extracting: train/labels/2c32afd520cc8bf076dfa5b6e2e1c4c1_jpg.rf.e9ad14fa3330976595bbd5162e607641.txt  \n",
            " extracting: train/labels/2ee0fd0963465ba29d8f27c6e605c55d_jpg.rf.416ed5a06f9bae303c04fb48287f167f.txt  \n",
            " extracting: train/labels/2fe75c34fd54e960146fb8b0ad8b3fd6_jpg.rf.9b91df20f1a711da331d1878d5687f13.txt  \n",
            " extracting: train/labels/300f80826bbb7dc4bf83e148614f2f77_jpg.rf.4a030c3f3f66357883fd1b9ae35cb892.txt  \n",
            " extracting: train/labels/3057eba7e9b0221ddbdc96a01f39ab79_jpg.rf.99cea19d83ccb4944b34919888dd0b71.txt  \n",
            " extracting: train/labels/3091c9b25d76e9cbd0af83ced9f354e5_jpg.rf.a96c979a388355dec7d4f832c0027f12.txt  \n",
            " extracting: train/labels/31419854b103ca6becc4cc394c449e95_jpg.rf.11b00b871f708bbe4d1421a0d9bc9daa.txt  \n",
            " extracting: train/labels/3161933dffedf8a859d6623a99492c53_jpg.rf.c58eabf189045a84e3c4389cebbcb9ec.txt  \n",
            " extracting: train/labels/3474d785b1b21d68163f56aa00a92bc9_jpg.rf.6bd40b33320a982005920d6d2d680c64.txt  \n",
            " extracting: train/labels/34ad1966ae7a17d4502ca141413ed8d2_jpg.rf.537d7ed41b558d70e1324f7ca1852ae0.txt  \n",
            " extracting: train/labels/36066ba85572ce99198f1a21c2c8bbff_jpg.rf.0b8c6b6b4c05ac617ba42138acb75757.txt  \n",
            " extracting: train/labels/3730ef213ac6aad431475a9ab28f349a_jpg.rf.f5f1fbb4d67fe92ce0d9acaa098cf5ac.txt  \n",
            " extracting: train/labels/3796db002cba7265bd32b0161ddd9127_jpg.rf.d39211b0dcef15258c6b963af339174e.txt  \n",
            " extracting: train/labels/37fe05bcf7d8568a9e55b569afdbccbd_jpg.rf.cf1a8be3a1ab89adc512c7969c0f1858.txt  \n",
            " extracting: train/labels/383c2ed7bbe2d327ab55a871db497c33_jpg.rf.52c7e74ebf109fe309e4b5c4def80ab7.txt  \n",
            " extracting: train/labels/389b4c47568c78c44df11dbb1377ffea_jpg.rf.cf94bc4ad387c2217d8cdf5402adcc1b.txt  \n",
            " extracting: train/labels/38f26ee82e38d332b2a831aa47bd363b_jpg.rf.69b9f7a3e7a10d7cdea51d7d7f01ba63.txt  \n",
            " extracting: train/labels/3914be0cea4aa8a6bbd1081ec3b034a7_jpg.rf.683bc62edd79c5db6b8b1dffcefc8d3f.txt  \n",
            " extracting: train/labels/3bab0eaaeb63a2ac9ae4942df4006a25_jpg.rf.1e2bc93d96300515f87808e09a5dd9a0.txt  \n",
            " extracting: train/labels/3e8fb24addda1a0945bd6b7777bc4018_jpg.rf.ec3432947d47720924cbb0dbf51956ba.txt  \n",
            " extracting: train/labels/446e75de1ffefc2115e79696bcf0e357_jpg.rf.3515dc451efed9a872f9268f3e9eb744.txt  \n",
            " extracting: train/labels/4667110b61b16e786673ed6126ccc35d_jpg.rf.8dd3ddf202a5cb346771cb4461f82884.txt  \n",
            " extracting: train/labels/479459fe5c8213a84fd55ba82f2670b1_jpg.rf.f481d875b91a96ca7982bfb5ba10e167.txt  \n",
            " extracting: train/labels/47e842dd95735a11cf92c0ddf1161193_jpg.rf.fa045b4cdedb6dbeea6226d5e5d58a5c.txt  \n",
            " extracting: train/labels/4807629b8df9c7eb4366b7feccd72e6a_jpg.rf.7d7f1b6fcb45b82fca8e8d6ce7ae33a9.txt  \n",
            " extracting: train/labels/4894f034a55eaa9252cd261a62b11d27_jpg.rf.5821daba2605c369ab52a6c1d3485b2a.txt  \n",
            " extracting: train/labels/48d3c59a99b2b5a5b9f1eb7d5ba63b60_jpg.rf.4360a206e865320f4f5dddea12152bf6.txt  \n",
            " extracting: train/labels/48e115dcbf1b3a67ca47a75a92da3f33_jpg.rf.b7f219d6adc0b92d43dc62bd98ee752b.txt  \n",
            " extracting: train/labels/4939035108d04ee672570a7cc937e270_jpg.rf.6fade1d3dc27011193c2fa8b9c10bd12.txt  \n",
            " extracting: train/labels/49c2afbbe5726160b289f7c0c62cdace_jpg.rf.018249b80783dd42d0d23496d4830902.txt  \n",
            " extracting: train/labels/49d365236ee4fb6bd982b0f00bff007e_jpg.rf.a2679c37a0afa53ab1a9394ff0585f46.txt  \n",
            " extracting: train/labels/49f78dc9aaeadd0c76ed2def75c358f3_jpg.rf.06d058407b83ba70ad2e41656d9d2195.txt  \n",
            " extracting: train/labels/4ae38537a74c5ed10d5223f8066659fc_jpg.rf.b8e4020f3f188e6ebe715200d8db0c27.txt  \n",
            " extracting: train/labels/4bf38c062fa7b5796d15ba90d6c3a456_jpg.rf.ca8cb7f5c79fb302acc4a6bd81e0b9a6.txt  \n",
            " extracting: train/labels/4d6b667ecbd41ebd603b38848366d9d0_jpg.rf.e51e6ab1c441b8766bf8503333a69db9.txt  \n",
            " extracting: train/labels/4d7820ad9fb4fe69d5168e1d7317dd02_jpg.rf.877766bf8a749843720f86abf3056207.txt  \n",
            " extracting: train/labels/4de23afff63bc169b4ebe547a9c9b692_jpg.rf.3c9bf54ca2de480c19e30d7808e4a2f6.txt  \n",
            " extracting: train/labels/4eb630d4dd38528dacf72355caf5c06d_jpg.rf.192a83d78be33d7b7f4a5bdc1b47702f.txt  \n",
            " extracting: train/labels/53de0674524ae6d77bdfff48136dec2a_jpg.rf.e3110b74dc7e779b42cf28f66c70a5d5.txt  \n",
            " extracting: train/labels/54a90aab8c73562975cc560d51a9d2d1_jpg.rf.27c69714af4c78fdd6f390a4def1e4a3.txt  \n",
            " extracting: train/labels/5758322233deed7ae7adc23536db2a4f_jpg.rf.8999db6b1f2c3f65d582bc066a6c55c5.txt  \n",
            " extracting: train/labels/5825608dccde6544eef91822136079d0_jpg.rf.7c4ac226ecdf109b9b74f91cefc46dde.txt  \n",
            " extracting: train/labels/59727dce26aaa6100078810b61404069_jpg.rf.d0c247bc8da0897e492a48e773adf35c.txt  \n",
            " extracting: train/labels/5a8433ec79c881f84ef19a07dc73665d_jpg.rf.2f0c3c38d635f03ea39475fd078c3414.txt  \n",
            " extracting: train/labels/5cecd3b3946aac5c713a51e0bd4617c9_jpg.rf.b0e3d523923d0224d5f5faa66949b7aa.txt  \n",
            " extracting: train/labels/5e71cb8d41c333a18e799ef0004b040c_jpg.rf.57a1424a00d13826fe3e771dd404ceff.txt  \n",
            " extracting: train/labels/614811e933a680fd6535ac8bf06bf530_jpg.rf.ace44d36688dfecc17409089f7d0720f.txt  \n",
            " extracting: train/labels/614aadadb4a7f5b475b027b8e11398ee_jpg.rf.e3506223ffe7f4878bc357cdc1f33cd2.txt  \n",
            " extracting: train/labels/61567b97353acc18ba9e8aac0f111326_jpg.rf.69222b87f379416d71b28d07b4914777.txt  \n",
            " extracting: train/labels/6179b463c8f503445e213b706d2a4de5_jpg.rf.8882e7b1020797df38ea13e02e43a69c.txt  \n",
            " extracting: train/labels/6403b91d63799cb9b5531c47b195d088_jpg.rf.77da8d8e3bc7557ac1396d597f5759c5.txt  \n",
            " extracting: train/labels/6589f4cfb37439d7d276f0d70f7ee1f0_jpg.rf.8d4dabde24fa1a51f62ebf8ae0ce02e6.txt  \n",
            " extracting: train/labels/65ba27557c78850168b1df70a3ce4ff7_jpg.rf.223d0d2c45a4796a00809534807bfea2.txt  \n",
            " extracting: train/labels/66f3c2c7c10a9263de9c6e056ba5c1b9_jpg.rf.9e391887b9da6213f12999e1628558bb.txt  \n",
            " extracting: train/labels/673bcd0d44f495fbe9dd88d5cacfceb3_jpg.rf.4c5902b014a2bdaf3057a3c74b6a44a2.txt  \n",
            " extracting: train/labels/675619f2c8078824cfd182cec2eeba95_jpg.rf.223c4b81b8fa7e3bd7a24577a10a5382.txt  \n",
            " extracting: train/labels/699edbacbfee5e6d4d6d2189bc88990a_jpg.rf.26706a6cf9de8ec15a6bdb7e53e6173c.txt  \n",
            " extracting: train/labels/6ba74e310dd824af891d057d674cedb9_jpg.rf.d5ce8eb38bcd1353757d902b6c07c670.txt  \n",
            " extracting: train/labels/6bb6f7cb96bf37230681d12ff7882f61_jpg.rf.f367c0f54253444f9c2f8f8968a1a47f.txt  \n",
            " extracting: train/labels/6f0a888f9e5aed9516e336fd04723ce1_jpg.rf.284ac83a4d78d901e17b6ca1f8d6222a.txt  \n",
            " extracting: train/labels/6f0de9b594de9f9b92c6a20daa51a28a_jpg.rf.bc6c392807dacf7a8a84cae9c09acd03.txt  \n",
            " extracting: train/labels/759a86e63667ca033255c4ab438dd392_jpg.rf.7ce77a0061d42d49bf91a4329cafdc59.txt  \n",
            " extracting: train/labels/76d01bada90581f55f1ae64c062cafcf_jpg.rf.d8d268060aa9f6fd260d483b10ac6a04.txt  \n",
            " extracting: train/labels/76dbe2ccf986a2a0d399d3d8a47279ad_jpg.rf.581770ac7f3816d67c2431339bc65592.txt  \n",
            " extracting: train/labels/76e118acf05a8ebe06957f8882cc06aa_jpg.rf.355e39cef189edb061cf20d6e59d42db.txt  \n",
            " extracting: train/labels/79e744a68d6e6f83be0a9e8761ea66a4_jpg.rf.433e4079f552b8e2c261a6a3052f30cd.txt  \n",
            " extracting: train/labels/7df16cd59fb40e0691948cc805e4801b_jpg.rf.c439322b6c3c711ba67ace0c0f3ebffe.txt  \n",
            " extracting: train/labels/7ee8d13861bdc45e40a7cfe190a8d8a6_jpg.rf.67d658f56e627e74416bc18ec92107c2.txt  \n",
            " extracting: train/labels/81f5c542ffe0f9eae4df59d29acbcced_jpg.rf.99b5d8d7a1f3fa6cbb6e9ecfb5e3d8b3.txt  \n",
            " extracting: train/labels/859e7157c6d544236a67463c08169b6e_jpg.rf.bdb4426cf64b8f8c1e1d693a1df74b76.txt  \n",
            " extracting: train/labels/8678864272a0a04c4c65ca96324105b4_jpg.rf.90118317e342f59a5e18a9c460e72a99.txt  \n",
            " extracting: train/labels/871597c145446cf58c1c2dd7db988864_jpg.rf.6cecb51bef82f71cd395832fa16411ba.txt  \n",
            " extracting: train/labels/889c420fb266b8d0e817306110042bda_jpg.rf.02d22a79820be51228296021ad0b6bbb.txt  \n",
            " extracting: train/labels/8967433350d3b3043902603430fccaab_jpg.rf.0e119efea84f75200b18702781a169ba.txt  \n",
            " extracting: train/labels/8bb72e70f0560095885586deba37a524_jpg.rf.436c6acb4c9d0a040b6a86ad0a41e770.txt  \n",
            " extracting: train/labels/8d6f722eadc015a393bd490f9b7a85e6_jpg.rf.85a7f0c7d2d1b7ce90664ff35b84fe8d.txt  \n",
            " extracting: train/labels/8d796de64b9eed1ffd5ebe550d4ca807_jpg.rf.bcadbba8ab4a943a30062047dd9951be.txt  \n",
            " extracting: train/labels/8dd12470c30e3b265e8933a6fee7ad28_jpg.rf.a583ec04d3044992cfd9acbebea7aa95.txt  \n",
            " extracting: train/labels/8de03901c64a80070048ead3fb0d32bd_jpg.rf.d4cd4d7336cee96c7c01731c6f3b81cd.txt  \n",
            " extracting: train/labels/8f84f1945fd993facc3368d13345f333_jpg.rf.3286223477d0f45d03a6a9854b7ff4a6.txt  \n",
            " extracting: train/labels/8ff64b3f770bfe96bdffc629efd16460_jpg.rf.f14ad67cdd66b17692929139aef233d6.txt  \n",
            " extracting: train/labels/9146a6989dac08f1769e677064ebfb49_jpg.rf.21c3f74a60d73237ceb25280df5cebe8.txt  \n",
            " extracting: train/labels/92992ff9c823e0420bf17e71db9ef4ef_jpg.rf.73292c1560eefbd1a84212b43be8d424.txt  \n",
            " extracting: train/labels/93557fc861304f7753089c244bc1e33e_jpg.rf.15d07a278e4c1061b2d99a2b95ff9921.txt  \n",
            " extracting: train/labels/969daa72bd7804ea1212e191820249b0_jpg.rf.9ac5120ab4af0484ace560bea2c39a7c.txt  \n",
            " extracting: train/labels/97aeb1f9b745a929e9ac0848acb53a1a_jpg.rf.a37313f9380bde8e4827749f1dba6d7c.txt  \n",
            " extracting: train/labels/9962a4d44388b9008aa0f466e4f4052c_jpg.rf.faa4d33a45e46b53fcc8f751377a8160.txt  \n",
            " extracting: train/labels/998222d9c93f1640829d4f0032dbf3e8_jpg.rf.28adf4b8b45dc5d0011897ab15e9419f.txt  \n",
            " extracting: train/labels/99ee6574b2a7afc0bb06269bbcf49a4c_jpg.rf.64986b73afba1223e13eadbd9b0fdb27.txt  \n",
            " extracting: train/labels/9a6b61a6d3b3e3ecddc201b097aa02d1_jpg.rf.d5534a244c0a9972da49c08b89f83f75.txt  \n",
            " extracting: train/labels/9c153a9c9798dab948d4260eb109b315_jpg.rf.8db7f32aeb3c84a69b2a7d79b921fc5b.txt  \n",
            " extracting: train/labels/9c5fb0c3cfd7b334a247cd87c139e8e6_jpg.rf.588e9ea4bfffb48edc0f99b7af98c96f.txt  \n",
            " extracting: train/labels/9d776e74e90c4f8092b060dd7567e2f8_jpg.rf.b70c4c285edf5789719b8f7bddac3ddc.txt  \n",
            " extracting: train/labels/9e943906fba1ec89edfacb2dd7976504_jpg.rf.aa1f7ea2f8c95e89aa701d9f87056330.txt  \n",
            " extracting: train/labels/9fc54a45feb5b01db8f6828d181fb075_jpg.rf.04e7c11036b566a522bc317e86e5ab6a.txt  \n",
            " extracting: train/labels/IMG_0166_JPG.rf.f228ddaecf7848a0520e929807b35af4.txt  \n",
            " extracting: train/labels/IMG_0167_JPG.rf.661ad368ce42cadb9dc497ceaa07e777.txt  \n",
            " extracting: train/labels/IMG_0291_JPG.rf.a72d476f25b25f6ef3f768e5876c2a55.txt  \n",
            " extracting: train/labels/IMG_0292_JPG.rf.dae866a073c030671cc199d0d06353e4.txt  \n",
            " extracting: train/labels/IMG_0294_JPG.rf.b7ae411904ff022e80b90f6267535f05.txt  \n",
            " extracting: train/labels/IMG_0295_JPG.rf.8abd802272b965c843eb1ecbc8df4abc.txt  \n",
            " extracting: train/labels/IMG_0296_JPG.rf.818119ea873100bb120049c72da67cbd.txt  \n",
            " extracting: train/labels/IMG_0297_JPG.rf.2609f7e3ad4d54b19aafc0623f5a8510.txt  \n",
            " extracting: train/labels/IMG_0298_JPG.rf.388fb04c02f369a0c79a524343fe590c.txt  \n",
            " extracting: train/labels/IMG_0299_JPG.rf.7d92f1ba0929b7fc5e77848b80148fc6.txt  \n",
            " extracting: train/labels/IMG_0317_JPG.rf.b9135e07e62170150fc67bc1f25b0d3c.txt  \n",
            " extracting: train/labels/IMG_0318_JPG.rf.37a8faa6e2f4efc18f2113466c1ec320.txt  \n",
            " extracting: train/labels/a20eb4bb3cea2e394cfcf9ed969b628e_jpg.rf.9d2528623e7939a30ec82e76cac3df47.txt  \n",
            " extracting: train/labels/a4028b2361ce7ead654a86b07ac39d52_jpg.rf.03a20a2a674a95ceb6c61a5e531e8ca6.txt  \n",
            " extracting: train/labels/a4ebf4c268d80c4fe329331ea981b3a1_jpg.rf.d7e764e24afbdced1e4f8848f249bdfc.txt  \n",
            " extracting: train/labels/a5c65b40e0be3480c0ecfacaab399a87_jpg.rf.667ef27bf19775d48f8acf8dad04fa26.txt  \n",
            " extracting: train/labels/a8847f8fe8eaaa1c97bf83027a901760_jpg.rf.116b33357951f46fbbe0d5437561f61b.txt  \n",
            " extracting: train/labels/a932287da44b9dfacd0d16a5c1d27923_jpg.rf.b0950400898d51ce08945ad5c770ab03.txt  \n",
            " extracting: train/labels/a9768de3fceeeae2618f362870fb9a88_jpg.rf.055c7088ca1c11c42bcafa4950f2572f.txt  \n",
            " extracting: train/labels/a9987cf6cc5c6545818ec294d4a5bb9b_jpg.rf.21f51fbefe01648bbbb01e0d207c3843.txt  \n",
            " extracting: train/labels/b0f3d66c8be13f5f6aa25b67a06bdcfa_jpg.rf.30cc54e5f0d02160a2da3f6da04a9653.txt  \n",
            " extracting: train/labels/b3b002461f1c6b432e22964549767e5f_jpg.rf.6164bf4eadfd3dcb7f7ee2a2bd0764c2.txt  \n",
            " extracting: train/labels/b5102d7f9740eee7754ed268becb2163_jpg.rf.28a72d037ac692cc90b96708b1b05316.txt  \n",
            " extracting: train/labels/b5bcde459ca36f0d1f3c20e751336672_jpg.rf.0c6010e1e0afa0ff49d14eef51b5e6c8.txt  \n",
            " extracting: train/labels/b79ae5b70de58089ead6e32b235e30d3_jpg.rf.68c670de3208dc56613dc9b9f65ec934.txt  \n",
            " extracting: train/labels/b7a8c7de4fe1382d69f58ac97e819b5c_jpg.rf.d3b1cfbb0c618d6afff8ea3b96c4d331.txt  \n",
            " extracting: train/labels/bb54af2f0b83b174aecc29328c8fa001_jpg.rf.38630287afd7ffe84cd9468138ab7485.txt  \n",
            " extracting: train/labels/bc5decab88861286dcf78a367b4377cb_jpg.rf.c3e51d3ab678f7b49912e57cfd3d161c.txt  \n",
            " extracting: train/labels/beb11566e59775b61f0ca369952067cc_jpg.rf.726ac46a167828c2e34ad77f7abf895e.txt  \n",
            " extracting: train/labels/c0d68e012bb93c14bc333fc1d5e52621_jpg.rf.47fcf95dac60ca78902fc86cca7eab28.txt  \n",
            " extracting: train/labels/c3e9e81ba1540aae7961a4d8d96600ba_jpg.rf.deda5846f9437d81262d2e25f5808e36.txt  \n",
            " extracting: train/labels/c46bf04050a2a9323dfe563e8813602f_jpg.rf.634c5d0d551ab2b7c2554e4ce3c6aacb.txt  \n",
            " extracting: train/labels/c733616ab773817dd1a356dbbdf2ee33_jpg.rf.02fcb1d459e55b398bd4cc4edbd3bd10.txt  \n",
            " extracting: train/labels/c76c79e40bd9839a05237934cfa89ca3_jpg.rf.747f4292a1bb980bc392a787a773a0f1.txt  \n",
            " extracting: train/labels/c7890b749d14d3488066cbdfac4620fd_jpg.rf.eed3f658d1c9c65acfbcad5219f70716.txt  \n",
            " extracting: train/labels/ca869123d8a0cbcc6e54f4a445e5a78a_jpg.rf.de66695493176269696ee36a61dee1dc.txt  \n",
            " extracting: train/labels/cae099fe41d6aa30033d71e433c33c8d_jpg.rf.e346e0084281a8f6b63bbfeb576d1fc0.txt  \n",
            " extracting: train/labels/ce54969567273b9b8a275812ff56e16c_jpg.rf.af61be71f696438c30dc9bd87d299bd6.txt  \n",
            " extracting: train/labels/cf2784fa97151d5316b2961b1e62dc45_jpg.rf.d728eed31f107b29e913a6b2ad1f751a.txt  \n",
            " extracting: train/labels/d079f4e77b2445abceca7534356db743_jpg.rf.f7ee65ab8c16d3c9028443faaaf40ee2.txt  \n",
            " extracting: train/labels/d0cc2420bce5b14dfd39e55dc3737e57_jpg.rf.3914cdc1a02f2972d5316062da6f285f.txt  \n",
            " extracting: train/labels/d29148a2233950a7777285281cbfccff_jpg.rf.d23b4f180eb3b539d7ed88e2f4beb2cd.txt  \n",
            " extracting: train/labels/d33c33de41dbe1a95a43212c58fd12b7_jpg.rf.cdd968f5b7c71aa6ef1c732c4079c262.txt  \n",
            " extracting: train/labels/d3a4e1b8f13ef89f419251f5c5839d0d_jpg.rf.0c0623ed3bb8531690b2fbc7822d57bd.txt  \n",
            " extracting: train/labels/d415969922564f317be0d1433330626f_jpg.rf.1271853558336c8d9c5414b3a0466b8f.txt  \n",
            " extracting: train/labels/d494cb268ad7f9f55587de138edc1dc4_jpg.rf.b1bd99204b2ceacbda5bafa452a4d732.txt  \n",
            " extracting: train/labels/d67b5b9e900409b050dd9bd594f90709_jpg.rf.e07557fe78a4af8f4213b7c50edcc48e.txt  \n",
            " extracting: train/labels/d795f84f39716798482fb2937868ed8a_jpg.rf.57b7e9ee15d277b2694fdb94549a1487.txt  \n",
            " extracting: train/labels/d9acc69c5d57623cda22786e309201c9_jpg.rf.d37b5a883d97f31d33db5281c8ae0395.txt  \n",
            " extracting: train/labels/dd6b5c3cb2d7e77f38f1dfeb2bff0431_jpg.rf.f1dd1da676bf315e684a8e3a2ebbb82c.txt  \n",
            " extracting: train/labels/ddad9dc4d945006d66f5349d64498559_jpg.rf.cbac3a32273efcef96c08a2b0df10485.txt  \n",
            " extracting: train/labels/de60ba81aa78387928e4bdc11f3be301_jpg.rf.0cd8adb84fce0b83ee30a5fbdb4c1c4b.txt  \n",
            " extracting: train/labels/e40003d4bbcdac7196b9502bfe2fb6ed_jpg.rf.a92a3ed23c63f90ce84648a564f2a287.txt  \n",
            " extracting: train/labels/e6e3a2ff2c75970490079f00136885ad_jpg.rf.276c0ec51830ae8741a3e31c7f703638.txt  \n",
            " extracting: train/labels/e79deba8fe520409790b601ad61da4ee_jpg.rf.8cd55f2548d15a4c111f0a980d3ee4fe.txt  \n",
            " extracting: train/labels/e8480d7fb9881d8a0e88b7be4d103f6d_jpg.rf.eba2e44135388fd198939d843dca7e13.txt  \n",
            " extracting: train/labels/ea799d77875c399618c45cd9409f34ee_jpg.rf.077cbf5dc80bdc0bf0f59ddd6ce6f69e.txt  \n",
            " extracting: train/labels/eb9e7928e756c3cf9164e7afc08c4653_jpg.rf.77ace05280bcb7d839ab4cf9d586dfa2.txt  \n",
            " extracting: train/labels/ec4c30d88ecc70b6a3e76dbd9b17324a_jpg.rf.34d31473728f2b9a68bb71a3f40e1d6f.txt  \n",
            " extracting: train/labels/ec5ab1930d6aa16fff2582b48f82cada_jpg.rf.3164acc59bd3a1cade16f72b1f6e368a.txt  \n",
            " extracting: train/labels/edd285915356686fb53fb52c1ded0e53_jpg.rf.5104c70947989766361c9335d2f39d37.txt  \n",
            " extracting: train/labels/ef1d425fd5370fbf8b7adea43b755304_jpg.rf.4d4fe734367a2a5905da11a49184c767.txt  \n",
            " extracting: train/labels/f02d615907c77dc15f02bd1372e4398f_jpg.rf.714211d55651f47944d10b81622f1d39.txt  \n",
            " extracting: train/labels/f041d3171dfe3137390c85fc5437e447_jpg.rf.21a114abb3e64a6a241b6f7bdd0d8b9a.txt  \n",
            " extracting: train/labels/f1ea0167087976926d4fe0aa36b961ce_jpg.rf.245c4d4e37e289bbd69b90b60e6ee9bc.txt  \n",
            " extracting: train/labels/f2672cdc28767484b556da3ab6f1003e_jpg.rf.4397bb19b736490287e271bcf760ca16.txt  \n",
            " extracting: train/labels/f3302c754c6fd42130014199ee327d10_jpg.rf.0bef2494f0a7ebf9afda6b7688cf68b0.txt  \n",
            " extracting: train/labels/f3a5df526393445c6e2d38f66c1f5c27_jpg.rf.5c9ad833e2df809f6a0107ca7dd020ab.txt  \n",
            " extracting: train/labels/f52e1873b8583f8bf4f7ddf6e9649f07_jpg.rf.48248922519cd3c8f36539bc09dd8528.txt  \n",
            " extracting: train/labels/f587402be410b424bcbbac06e1dc6162_jpg.rf.a88d82401d5b97453bc047b92048ca39.txt  \n",
            " extracting: train/labels/f9a9a175f26d4b26bca3a5338cc1405e_jpg.rf.ec1a436f709ef7dc2e4f1fd3c9f6355e.txt  \n",
            " extracting: train/labels/fa3cf2724c1648a8822b59ac0759475f_jpg.rf.8b23c032ccc0fd6484f9d390cb6a2b9c.txt  \n",
            " extracting: train/labels/fa4e2b9a8cf58f405f69a56c662834f2_jpg.rf.9c9fb84a36bdfc518396a26a21758f9c.txt  \n",
            " extracting: train/labels/fb586797e8ad818c7e3e3a6411f73d84_jpg.rf.ad548be54dbd7087c07afbaa78746786.txt  \n",
            " extracting: train/labels/fc9d7bc0453cb3324406401c00224d30_jpg.rf.da31aaeddba327ec61dea2b7f515e62b.txt  \n",
            "   creating: valid/\n",
            "   creating: valid/images/\n",
            " extracting: valid/images/05ad7223827a29a8283f6c4b2490f52f_jpg.rf.5fb70e6e53b997c3015533194ea8e033.jpg  \n",
            " extracting: valid/images/0b2252c93c53e1b2e61d485b22328e2e_jpg.rf.78aea9d88ee5694eb75e7f05569e112a.jpg  \n",
            " extracting: valid/images/0c09b79cff39932c59ecc745dd827906_jpg.rf.a9966fa6e4e9a3da8246cd0e44c0e0d1.jpg  \n",
            " extracting: valid/images/0d9afc3d23392c3958f53d7fe71fd2f1_jpg.rf.38c69d3df99272f2d3c77c742ab1f50e.jpg  \n",
            " extracting: valid/images/15cc23c777b00d0e123f9df468f2852b_jpg.rf.a3f074f0d6beb76eb98cc6fa73ddce77.jpg  \n",
            " extracting: valid/images/18742c87a03866e042c5659ba04d1180_jpg.rf.ec481f84c7faf0dda7e20e721db5f89f.jpg  \n",
            " extracting: valid/images/1b7c1c9570e900f75eb974f99cbb3c60_jpg.rf.8f006641b9236815f6e4d16935747866.jpg  \n",
            " extracting: valid/images/1be2a621f309c7482e9a79ad5b23ecbe_jpg.rf.5cb426a7e2f8a4ef4c943f11bd62487b.jpg  \n",
            " extracting: valid/images/26fa37995fa5b18ec40e0a94e6d91104_jpg.rf.10d82beac7ac6234df91112c0276d4df.jpg  \n",
            " extracting: valid/images/302e7c10664be32b4fc000452149027c_jpg.rf.ec2e113c3ea11a78125c55887b60571f.jpg  \n",
            " extracting: valid/images/31b83afa654d5dd874c3f0111126ab7f_jpg.rf.755be19c63d3757e2127cc92d7b69869.jpg  \n",
            " extracting: valid/images/3312e3bb60e338e9c1a614f0f8960dd8_jpg.rf.effbdd6c0e43bd53a7e92240c0ba326b.jpg  \n",
            " extracting: valid/images/33b66ede234715fb46db40b33c4e26c1_jpg.rf.d59867e5d4f15a6cc37d2cc499b365d2.jpg  \n",
            " extracting: valid/images/3aafc2d38807dddd1b43a54cb70f500d_jpg.rf.7a1acfea51aff18b554e96c49beafb78.jpg  \n",
            " extracting: valid/images/3baf85c957b9d28a16c0b65cb2ef0d29_jpg.rf.ee68e051c8a61b8784b87686d828cf59.jpg  \n",
            " extracting: valid/images/3e0c67f38992fe16dfc163f7f5336263_jpg.rf.b541cee0030fd0edc7be9d4fed6a6abc.jpg  \n",
            " extracting: valid/images/424d6506342fa2471e71586675ed092c_jpg.rf.43baba77beb2f5588d5cc05ee7c081ec.jpg  \n",
            " extracting: valid/images/495019998442ddf85b59e387d4916cd3_jpg.rf.9d9d8ec43f8494e2bfe6603811f7b3de.jpg  \n",
            " extracting: valid/images/4b8f93069270a9f7bb523518a5088b9e_jpg.rf.ab3fbcd4d3542cb5bbb0b748053a358d.jpg  \n",
            " extracting: valid/images/55be99616328f83dcbfe8c18e1387c0e_jpg.rf.704f9d21a024a31afa058f00ea6d6ca9.jpg  \n",
            " extracting: valid/images/578029c06939a788cd5606ad17b49fb9_jpg.rf.6283a8b113fdfc84bf9f255a0df447c7.jpg  \n",
            " extracting: valid/images/57d1d1fb35ed875f9e770660bb03b6d7_jpg.rf.d3b0acfb689144d051a42d31205c791c.jpg  \n",
            " extracting: valid/images/5c19d3260762f5daa632d952bc0074d6_jpg.rf.9b21b95cd0d470a8c46ab298906e3745.jpg  \n",
            " extracting: valid/images/64061fd2e0e35bdf9ac4681eddf5fa2a_jpg.rf.7a9c55e842357fc0f8ed468afbdd4baa.jpg  \n",
            " extracting: valid/images/6859628a422c1b72be8b074841cd943e_jpg.rf.f580f9a20fdbf50ca1ab256112d11fb0.jpg  \n",
            " extracting: valid/images/6a41b6c8201604216ad196f842c6a2c6_jpg.rf.465cabf5502d8514f08087f183c3cb2a.jpg  \n",
            " extracting: valid/images/6e2dd4604b3a51d9be11b8809ed03803_jpg.rf.f6282009812141649ada9f73af2eee00.jpg  \n",
            " extracting: valid/images/73e6a751c50604d017541c11b28d8417_jpg.rf.81ee4214a166fd5de37da0bbfc5ef06c.jpg  \n",
            " extracting: valid/images/793c79d55c8a252b7a954d074b1d6498_jpg.rf.a9478a33f4491269886d3d92028cd059.jpg  \n",
            " extracting: valid/images/7e862b85e33cd247ed66447d129e5fb4_jpg.rf.d53dc427754d44718c33bb6291012ad2.jpg  \n",
            " extracting: valid/images/7e97f49e613a59a70b833e4c0b2c1c04_jpg.rf.e3d8cc08e136002cec4bf8350be37c47.jpg  \n",
            " extracting: valid/images/86afe95de5471af5cef08e6ae4d9acbb_jpg.rf.89e9e862697f76853ecd9142667e3aa7.jpg  \n",
            " extracting: valid/images/8ec14357f5f18fb98db86e0283623150_jpg.rf.dc1f65d43628062fda98946db19045ef.jpg  \n",
            " extracting: valid/images/9453c2097cb4ccc676e273939894b3da_jpg.rf.1b3941e5bbd87526c743197a542248ec.jpg  \n",
            " extracting: valid/images/97ed198b00b5491747d3b425df8e7096_jpg.rf.d4830d71ceb565084b77c6d7b7a09699.jpg  \n",
            " extracting: valid/images/IMG_0293_JPG.rf.f29eab19f33f4c8ef04f9188d7ff1de7.jpg  \n",
            " extracting: valid/images/IMG_0310_JPG.rf.6cf8e3d4550948ac9e5efafc66f1cdfd.jpg  \n",
            " extracting: valid/images/IMG_0311_JPG.rf.52d3ca104e59d1fcc846258e946e7dbd.jpg  \n",
            " extracting: valid/images/IMG_0319_JPG.rf.4ebd9c3d828dfa381411157d7b4ad4da.jpg  \n",
            " extracting: valid/images/IMG_0320_JPG.rf.63f3739202c30a04a1630bba0266fc4f.jpg  \n",
            " extracting: valid/images/abd65798d9952a27e087710eb8bddf32_jpg.rf.99eb394f3994df8afcc2a5778016d1ec.jpg  \n",
            " extracting: valid/images/aec1aa6773dbbe004554f405cdef2bea_jpg.rf.748dcb4e54783f3bceb3c341d9eee5f1.jpg  \n",
            " extracting: valid/images/bb0de9761d16eee258ae09d8de32002c_jpg.rf.c11059695bd371034e76c84073775603.jpg  \n",
            " extracting: valid/images/c1f800417bc42263d141b5ed785e7707_jpg.rf.337b6ba78718cfc7228c7484c4a361f3.jpg  \n",
            " extracting: valid/images/c20ca9283ea51ac7707905894a7da703_jpg.rf.d23d9f998440d64312d949fdcdfa1b7d.jpg  \n",
            " extracting: valid/images/c5172afbdad90854b3d0f21a923c0c69_jpg.rf.f7da3947b94ff2b838d32b8fcd660104.jpg  \n",
            " extracting: valid/images/ca6484c259f286c5bdf1afefc868b753_jpg.rf.7aa1f1409074d5b0cbd19b20593cdcb5.jpg  \n",
            " extracting: valid/images/d114edc5cb4cae0ceb2f152afd15f57d_jpg.rf.047eea1174ccf45e4a09a9449a5611c0.jpg  \n",
            " extracting: valid/images/d3b9309d00a2b671407b918ea867a935_jpg.rf.cbc8557646c90e2b2764e2746a672acd.jpg  \n",
            " extracting: valid/images/d4f7caf01359b9a757c930140f746fad_jpg.rf.2b5cb1a63d242e69953a94e870bf8624.jpg  \n",
            " extracting: valid/images/d6e283a49b0395a6d5867c9e98e32045_jpg.rf.2571cdc4c5d218d1f8ecd4becc57c5ce.jpg  \n",
            " extracting: valid/images/d9ef98145d7d35393c75a51331a20e2c_jpg.rf.ff2352acde10b0f0eff169f22f55a1ce.jpg  \n",
            " extracting: valid/images/e1616dc9962fed075576ac4ea3553f51_jpg.rf.ad4a845557489e0b87666d3a34abd929.jpg  \n",
            " extracting: valid/images/e53bf8a0e692a4ccd5f1dc2bc19e7751_jpg.rf.181fa15089d35840f7c13edd8e22b1f5.jpg  \n",
            " extracting: valid/images/e7edc4f1b8d3cc1069b96d0358e066c9_jpg.rf.9dbe733e3efac3860d9ec4bf94e8674a.jpg  \n",
            " extracting: valid/images/ec418cafd39d7c5a69cc0642a08b2a08_jpg.rf.4d5b99fb671fd8cd28d64ed4f0293535.jpg  \n",
            " extracting: valid/images/eca42980852e6c5db10ee84aac23f9c6_jpg.rf.33b03eede8db8237276d8c962e735f2b.jpg  \n",
            " extracting: valid/images/fb7d97265a22bb1c1f908dadc6f9e7dc_jpg.rf.ebf5c65b740623772c9bd7490f81fc37.jpg  \n",
            "   creating: valid/labels/\n",
            " extracting: valid/labels/05ad7223827a29a8283f6c4b2490f52f_jpg.rf.5fb70e6e53b997c3015533194ea8e033.txt  \n",
            " extracting: valid/labels/0b2252c93c53e1b2e61d485b22328e2e_jpg.rf.78aea9d88ee5694eb75e7f05569e112a.txt  \n",
            " extracting: valid/labels/0c09b79cff39932c59ecc745dd827906_jpg.rf.a9966fa6e4e9a3da8246cd0e44c0e0d1.txt  \n",
            " extracting: valid/labels/0d9afc3d23392c3958f53d7fe71fd2f1_jpg.rf.38c69d3df99272f2d3c77c742ab1f50e.txt  \n",
            " extracting: valid/labels/15cc23c777b00d0e123f9df468f2852b_jpg.rf.a3f074f0d6beb76eb98cc6fa73ddce77.txt  \n",
            " extracting: valid/labels/18742c87a03866e042c5659ba04d1180_jpg.rf.ec481f84c7faf0dda7e20e721db5f89f.txt  \n",
            " extracting: valid/labels/1b7c1c9570e900f75eb974f99cbb3c60_jpg.rf.8f006641b9236815f6e4d16935747866.txt  \n",
            " extracting: valid/labels/1be2a621f309c7482e9a79ad5b23ecbe_jpg.rf.5cb426a7e2f8a4ef4c943f11bd62487b.txt  \n",
            " extracting: valid/labels/26fa37995fa5b18ec40e0a94e6d91104_jpg.rf.10d82beac7ac6234df91112c0276d4df.txt  \n",
            " extracting: valid/labels/302e7c10664be32b4fc000452149027c_jpg.rf.ec2e113c3ea11a78125c55887b60571f.txt  \n",
            " extracting: valid/labels/31b83afa654d5dd874c3f0111126ab7f_jpg.rf.755be19c63d3757e2127cc92d7b69869.txt  \n",
            " extracting: valid/labels/3312e3bb60e338e9c1a614f0f8960dd8_jpg.rf.effbdd6c0e43bd53a7e92240c0ba326b.txt  \n",
            " extracting: valid/labels/33b66ede234715fb46db40b33c4e26c1_jpg.rf.d59867e5d4f15a6cc37d2cc499b365d2.txt  \n",
            " extracting: valid/labels/3aafc2d38807dddd1b43a54cb70f500d_jpg.rf.7a1acfea51aff18b554e96c49beafb78.txt  \n",
            " extracting: valid/labels/3baf85c957b9d28a16c0b65cb2ef0d29_jpg.rf.ee68e051c8a61b8784b87686d828cf59.txt  \n",
            " extracting: valid/labels/3e0c67f38992fe16dfc163f7f5336263_jpg.rf.b541cee0030fd0edc7be9d4fed6a6abc.txt  \n",
            " extracting: valid/labels/424d6506342fa2471e71586675ed092c_jpg.rf.43baba77beb2f5588d5cc05ee7c081ec.txt  \n",
            " extracting: valid/labels/495019998442ddf85b59e387d4916cd3_jpg.rf.9d9d8ec43f8494e2bfe6603811f7b3de.txt  \n",
            " extracting: valid/labels/4b8f93069270a9f7bb523518a5088b9e_jpg.rf.ab3fbcd4d3542cb5bbb0b748053a358d.txt  \n",
            " extracting: valid/labels/55be99616328f83dcbfe8c18e1387c0e_jpg.rf.704f9d21a024a31afa058f00ea6d6ca9.txt  \n",
            " extracting: valid/labels/578029c06939a788cd5606ad17b49fb9_jpg.rf.6283a8b113fdfc84bf9f255a0df447c7.txt  \n",
            " extracting: valid/labels/57d1d1fb35ed875f9e770660bb03b6d7_jpg.rf.d3b0acfb689144d051a42d31205c791c.txt  \n",
            " extracting: valid/labels/5c19d3260762f5daa632d952bc0074d6_jpg.rf.9b21b95cd0d470a8c46ab298906e3745.txt  \n",
            " extracting: valid/labels/64061fd2e0e35bdf9ac4681eddf5fa2a_jpg.rf.7a9c55e842357fc0f8ed468afbdd4baa.txt  \n",
            " extracting: valid/labels/6859628a422c1b72be8b074841cd943e_jpg.rf.f580f9a20fdbf50ca1ab256112d11fb0.txt  \n",
            " extracting: valid/labels/6a41b6c8201604216ad196f842c6a2c6_jpg.rf.465cabf5502d8514f08087f183c3cb2a.txt  \n",
            " extracting: valid/labels/6e2dd4604b3a51d9be11b8809ed03803_jpg.rf.f6282009812141649ada9f73af2eee00.txt  \n",
            " extracting: valid/labels/73e6a751c50604d017541c11b28d8417_jpg.rf.81ee4214a166fd5de37da0bbfc5ef06c.txt  \n",
            " extracting: valid/labels/793c79d55c8a252b7a954d074b1d6498_jpg.rf.a9478a33f4491269886d3d92028cd059.txt  \n",
            " extracting: valid/labels/7e862b85e33cd247ed66447d129e5fb4_jpg.rf.d53dc427754d44718c33bb6291012ad2.txt  \n",
            " extracting: valid/labels/7e97f49e613a59a70b833e4c0b2c1c04_jpg.rf.e3d8cc08e136002cec4bf8350be37c47.txt  \n",
            " extracting: valid/labels/86afe95de5471af5cef08e6ae4d9acbb_jpg.rf.89e9e862697f76853ecd9142667e3aa7.txt  \n",
            " extracting: valid/labels/8ec14357f5f18fb98db86e0283623150_jpg.rf.dc1f65d43628062fda98946db19045ef.txt  \n",
            " extracting: valid/labels/9453c2097cb4ccc676e273939894b3da_jpg.rf.1b3941e5bbd87526c743197a542248ec.txt  \n",
            " extracting: valid/labels/97ed198b00b5491747d3b425df8e7096_jpg.rf.d4830d71ceb565084b77c6d7b7a09699.txt  \n",
            " extracting: valid/labels/IMG_0293_JPG.rf.f29eab19f33f4c8ef04f9188d7ff1de7.txt  \n",
            " extracting: valid/labels/IMG_0310_JPG.rf.6cf8e3d4550948ac9e5efafc66f1cdfd.txt  \n",
            " extracting: valid/labels/IMG_0311_JPG.rf.52d3ca104e59d1fcc846258e946e7dbd.txt  \n",
            " extracting: valid/labels/IMG_0319_JPG.rf.4ebd9c3d828dfa381411157d7b4ad4da.txt  \n",
            " extracting: valid/labels/IMG_0320_JPG.rf.63f3739202c30a04a1630bba0266fc4f.txt  \n",
            " extracting: valid/labels/abd65798d9952a27e087710eb8bddf32_jpg.rf.99eb394f3994df8afcc2a5778016d1ec.txt  \n",
            " extracting: valid/labels/aec1aa6773dbbe004554f405cdef2bea_jpg.rf.748dcb4e54783f3bceb3c341d9eee5f1.txt  \n",
            " extracting: valid/labels/bb0de9761d16eee258ae09d8de32002c_jpg.rf.c11059695bd371034e76c84073775603.txt  \n",
            " extracting: valid/labels/c1f800417bc42263d141b5ed785e7707_jpg.rf.337b6ba78718cfc7228c7484c4a361f3.txt  \n",
            " extracting: valid/labels/c20ca9283ea51ac7707905894a7da703_jpg.rf.d23d9f998440d64312d949fdcdfa1b7d.txt  \n",
            " extracting: valid/labels/c5172afbdad90854b3d0f21a923c0c69_jpg.rf.f7da3947b94ff2b838d32b8fcd660104.txt  \n",
            " extracting: valid/labels/ca6484c259f286c5bdf1afefc868b753_jpg.rf.7aa1f1409074d5b0cbd19b20593cdcb5.txt  \n",
            " extracting: valid/labels/d114edc5cb4cae0ceb2f152afd15f57d_jpg.rf.047eea1174ccf45e4a09a9449a5611c0.txt  \n",
            " extracting: valid/labels/d3b9309d00a2b671407b918ea867a935_jpg.rf.cbc8557646c90e2b2764e2746a672acd.txt  \n",
            " extracting: valid/labels/d4f7caf01359b9a757c930140f746fad_jpg.rf.2b5cb1a63d242e69953a94e870bf8624.txt  \n",
            " extracting: valid/labels/d6e283a49b0395a6d5867c9e98e32045_jpg.rf.2571cdc4c5d218d1f8ecd4becc57c5ce.txt  \n",
            " extracting: valid/labels/d9ef98145d7d35393c75a51331a20e2c_jpg.rf.ff2352acde10b0f0eff169f22f55a1ce.txt  \n",
            " extracting: valid/labels/e1616dc9962fed075576ac4ea3553f51_jpg.rf.ad4a845557489e0b87666d3a34abd929.txt  \n",
            " extracting: valid/labels/e53bf8a0e692a4ccd5f1dc2bc19e7751_jpg.rf.181fa15089d35840f7c13edd8e22b1f5.txt  \n",
            " extracting: valid/labels/e7edc4f1b8d3cc1069b96d0358e066c9_jpg.rf.9dbe733e3efac3860d9ec4bf94e8674a.txt  \n",
            " extracting: valid/labels/ec418cafd39d7c5a69cc0642a08b2a08_jpg.rf.4d5b99fb671fd8cd28d64ed4f0293535.txt  \n",
            " extracting: valid/labels/eca42980852e6c5db10ee84aac23f9c6_jpg.rf.33b03eede8db8237276d8c962e735f2b.txt  \n",
            " extracting: valid/labels/fb7d97265a22bb1c1f908dadc6f9e7dc_jpg.rf.ebf5c65b740623772c9bd7490f81fc37.txt  \n"
          ],
          "name": "stdout"
        }
      ]
    },
    {
      "cell_type": "code",
      "metadata": {
        "colab": {
          "base_uri": "https://localhost:8080/"
        },
        "id": "8f7JX-iI2rvX",
        "outputId": "b6178617-faa7-4fad-a7db-4215647e7b00"
      },
      "source": [
        "with open(root/\"data.yaml\") as file:\n",
        "    data = yaml.load(file)\n",
        "data"
      ],
      "execution_count": 9,
      "outputs": [
        {
          "output_type": "execute_result",
          "data": {
            "text/plain": [
              "{'names': ['bishop',\n",
              "  'black-bishop',\n",
              "  'black-king',\n",
              "  'black-knight',\n",
              "  'black-pawn',\n",
              "  'black-queen',\n",
              "  'black-rook',\n",
              "  'white-bishop',\n",
              "  'white-king',\n",
              "  'white-knight',\n",
              "  'white-pawn',\n",
              "  'white-queen',\n",
              "  'white-rook'],\n",
              " 'nc': 13,\n",
              " 'train': '../train/images',\n",
              " 'val': '../valid/images'}"
            ]
          },
          "metadata": {
            "tags": []
          },
          "execution_count": 9
        }
      ]
    },
    {
      "cell_type": "code",
      "metadata": {
        "id": "WGelYEmB4I-l"
      },
      "source": [
        "classes = data['names']"
      ],
      "execution_count": 10,
      "outputs": []
    },
    {
      "cell_type": "code",
      "metadata": {
        "colab": {
          "base_uri": "https://localhost:8080/",
          "height": 35
        },
        "id": "WUt9uA3v4PwF",
        "outputId": "367ca633-5b03-4b07-f64b-27bb850246af"
      },
      "source": [
        "classes[10]"
      ],
      "execution_count": 11,
      "outputs": [
        {
          "output_type": "execute_result",
          "data": {
            "application/vnd.google.colaboratory.intrinsic+json": {
              "type": "string"
            },
            "text/plain": [
              "'white-pawn'"
            ]
          },
          "metadata": {
            "tags": []
          },
          "execution_count": 11
        }
      ]
    },
    {
      "cell_type": "code",
      "metadata": {
        "id": "DUPhI6QJ4R2n"
      },
      "source": [
        "path_train = Path(\"/content/data/train\")\n",
        "path_val = Path(\"/content/data/valid\")\n",
        "path_test = Path(\"/content/data/test\")\n"
      ],
      "execution_count": 12,
      "outputs": []
    },
    {
      "cell_type": "code",
      "metadata": {
        "id": "G7BzUYz34uF5"
      },
      "source": [
        "train_images = get_image_files(path_train/\"images\")"
      ],
      "execution_count": 13,
      "outputs": []
    },
    {
      "cell_type": "code",
      "metadata": {
        "colab": {
          "base_uri": "https://localhost:8080/",
          "height": 286
        },
        "id": "aKGvhkM3420p",
        "outputId": "8174bde1-caab-420f-ce60-1903822dedaa"
      },
      "source": [
        "img = cv2.imread(str (train_images[-1]),cv2.IMREAD_UNCHANGED)\n",
        "img = cv2.cvtColor(img,cv2.COLOR_RGB2BGR)\n",
        "plt.imshow(img)"
      ],
      "execution_count": 14,
      "outputs": [
        {
          "output_type": "execute_result",
          "data": {
            "text/plain": [
              "<matplotlib.image.AxesImage at 0x7f5e439aa090>"
            ]
          },
          "metadata": {
            "tags": []
          },
          "execution_count": 14
        },
        {
          "output_type": "display_data",
          "data": {
            "image/png": "[encoded data removed]",
            "text/plain": [
              "<Figure size 432x288 with 1 Axes>"
            ]
          },
          "metadata": {
            "tags": [],
            "needs_background": "light"
          }
        }
      ]
    },
    {
      "cell_type": "code",
      "metadata": {
        "colab": {
          "base_uri": "https://localhost:8080/"
        },
        "id": "ulj1sCkf5cjK",
        "outputId": "cd0c8d9a-ea59-4e75-8ad2-bf908a3b751d"
      },
      "source": [
        "img.shape"
      ],
      "execution_count": 15,
      "outputs": [
        {
          "output_type": "execute_result",
          "data": {
            "text/plain": [
              "(1371, 2048, 3)"
            ]
          },
          "metadata": {
            "tags": []
          },
          "execution_count": 15
        }
      ]
    },
    {
      "cell_type": "code",
      "metadata": {
        "colab": {
          "base_uri": "https://localhost:8080/"
        },
        "id": "3xTWLbYV6bWQ",
        "outputId": "0c43eb03-5fd1-44dc-a485-7c415711d350"
      },
      "source": [
        "f = train_images[-1].name[:-4] + \".txt\"\n",
        "with open(root/\"train\"/\"labels\"/f, 'r') as file:\n",
        "  targets = file.read()\n",
        "targets = targets.split(\"\\n\")\n",
        "targets"
      ],
      "execution_count": 16,
      "outputs": [
        {
          "output_type": "execute_result",
          "data": {
            "text/plain": [
              "['3 0.201171875 0.0794460641399417 0.05615234375 0.119533527696793']"
            ]
          },
          "metadata": {
            "tags": []
          },
          "execution_count": 16
        }
      ]
    },
    {
      "cell_type": "code",
      "metadata": {
        "colab": {
          "base_uri": "https://localhost:8080/"
        },
        "id": "_OzownJ56x12",
        "outputId": "8a630f3f-bc74-4ae2-f798-46d520961fc9"
      },
      "source": [
        "row = [f, *targets[0].split(\" \")]\n",
        "row"
      ],
      "execution_count": 17,
      "outputs": [
        {
          "output_type": "execute_result",
          "data": {
            "text/plain": [
              "['47e842dd95735a11cf92c0ddf1161193_jpg.rf.fa045b4cdedb6dbeea6226d5e5d58a5c.txt',\n",
              " '3',\n",
              " '0.201171875',\n",
              " '0.0794460641399417',\n",
              " '0.05615234375',\n",
              " '0.119533527696793']"
            ]
          },
          "metadata": {
            "tags": []
          },
          "execution_count": 17
        }
      ]
    },
    {
      "cell_type": "code",
      "metadata": {
        "colab": {
          "base_uri": "https://localhost:8080/",
          "height": 48
        },
        "id": "ZTw4WIVQ7kP_",
        "outputId": "dd05d392-2ac6-4a2b-e009-5592fa6c802e"
      },
      "source": [
        "col = [\"name\",\"class\",\"center_x\",\"center_y\",\"width\",\"height\"]\n",
        "train_df = pd.DataFrame(columns=col)\n",
        "train_df"
      ],
      "execution_count": 18,
      "outputs": [
        {
          "output_type": "execute_result",
          "data": {
            "text/html": [
              "<div>\n",
              "<style scoped>\n",
              "    .dataframe tbody tr th:only-of-type {\n",
              "        vertical-align: middle;\n",
              "    }\n",
              "\n",
              "    .dataframe tbody tr th {\n",
              "        vertical-align: top;\n",
              "    }\n",
              "\n",
              "    .dataframe thead th {\n",
              "        text-align: right;\n",
              "    }\n",
              "</style>\n",
              "<table border=\"1\" class=\"dataframe\">\n",
              "  <thead>\n",
              "    <tr style=\"text-align: right;\">\n",
              "      <th></th>\n",
              "      <th>name</th>\n",
              "      <th>class</th>\n",
              "      <th>center_x</th>\n",
              "      <th>center_y</th>\n",
              "      <th>width</th>\n",
              "      <th>height</th>\n",
              "    </tr>\n",
              "  </thead>\n",
              "  <tbody>\n",
              "  </tbody>\n",
              "</table>\n",
              "</div>"
            ],
            "text/plain": [
              "Empty DataFrame\n",
              "Columns: [name, class, center_x, center_y, width, height]\n",
              "Index: []"
            ]
          },
          "metadata": {
            "tags": []
          },
          "execution_count": 18
        }
      ]
    },
    {
      "cell_type": "code",
      "metadata": {
        "colab": {
          "base_uri": "https://localhost:8080/"
        },
        "id": "LPuAA6zK75mF",
        "outputId": "6d9a093d-516d-4a8b-a007-3b8647b09337"
      },
      "source": [
        "row = {}\n",
        "row[col[0]] = f[:-4]\n",
        "for i,t in enumerate(targets[0].split(\" \")):\n",
        "    row[col[i+1]] = float(t)\n",
        "row"
      ],
      "execution_count": 19,
      "outputs": [
        {
          "output_type": "execute_result",
          "data": {
            "text/plain": [
              "{'center_x': 0.201171875,\n",
              " 'center_y': 0.0794460641399417,\n",
              " 'class': 3.0,\n",
              " 'height': 0.119533527696793,\n",
              " 'name': '47e842dd95735a11cf92c0ddf1161193_jpg.rf.fa045b4cdedb6dbeea6226d5e5d58a5c',\n",
              " 'width': 0.05615234375}"
            ]
          },
          "metadata": {
            "tags": []
          },
          "execution_count": 19
        }
      ]
    },
    {
      "cell_type": "code",
      "metadata": {
        "colab": {
          "base_uri": "https://localhost:8080/",
          "height": 78
        },
        "id": "vsaKFPeZ8h9W",
        "outputId": "b6b9be8f-4660-485d-ad94-aae8cb39e428"
      },
      "source": [
        "train_df.append(row,ignore_index=True)"
      ],
      "execution_count": 20,
      "outputs": [
        {
          "output_type": "execute_result",
          "data": {
            "text/html": [
              "<div>\n",
              "<style scoped>\n",
              "    .dataframe tbody tr th:only-of-type {\n",
              "        vertical-align: middle;\n",
              "    }\n",
              "\n",
              "    .dataframe tbody tr th {\n",
              "        vertical-align: top;\n",
              "    }\n",
              "\n",
              "    .dataframe thead th {\n",
              "        text-align: right;\n",
              "    }\n",
              "</style>\n",
              "<table border=\"1\" class=\"dataframe\">\n",
              "  <thead>\n",
              "    <tr style=\"text-align: right;\">\n",
              "      <th></th>\n",
              "      <th>name</th>\n",
              "      <th>class</th>\n",
              "      <th>center_x</th>\n",
              "      <th>center_y</th>\n",
              "      <th>width</th>\n",
              "      <th>height</th>\n",
              "    </tr>\n",
              "  </thead>\n",
              "  <tbody>\n",
              "    <tr>\n",
              "      <th>0</th>\n",
              "      <td>47e842dd95735a11cf92c0ddf1161193_jpg.rf.fa045b4cdedb6dbeea6226d5e5d58a5c</td>\n",
              "      <td>3.0</td>\n",
              "      <td>0.201172</td>\n",
              "      <td>0.079446</td>\n",
              "      <td>0.056152</td>\n",
              "      <td>0.119534</td>\n",
              "    </tr>\n",
              "  </tbody>\n",
              "</table>\n",
              "</div>"
            ],
            "text/plain": [
              "                                                                       name  ...    height\n",
              "0  47e842dd95735a11cf92c0ddf1161193_jpg.rf.fa045b4cdedb6dbeea6226d5e5d58a5c  ...  0.119534\n",
              "\n",
              "[1 rows x 6 columns]"
            ]
          },
          "metadata": {
            "tags": []
          },
          "execution_count": 20
        }
      ]
    },
    {
      "cell_type": "code",
      "metadata": {
        "id": "gw0kkWMR8wMT"
      },
      "source": [
        "# Data frame\n",
        "\n",
        "def get_targets(image_path):\n",
        "    f = image_path.name[:-4] + \".txt\"\n",
        "    with open((image_path.parent).parent/\"labels\"/f,'r') as file:\n",
        "        targets = file.read()\n",
        "    return targets.split('\\n')\n",
        "\n",
        "\n",
        "def get_row(image_path,target,col):\n",
        "    row = {}\n",
        "    row[col[0]] = image_path.name[:-4]\n",
        "    for i,t in enumerate(target.split(\" \")):\n",
        "        try:\n",
        "            row[col[i+1]] = float(t)\n",
        "        except:\n",
        "            print(\"Could not convert {} to float\".format(t))\n",
        "    return row\n",
        "\n",
        "def add_targets_to_df(df,image_path):\n",
        "    targets = get_targets(image_path)\n",
        "    df_new = df\n",
        "    for target in targets:\n",
        "        row = get_row(image_path,target, df.columns)\n",
        "        df_new = df_new.append(row,ignore_index=True)\n",
        "    return df_new\n",
        "    \n",
        "\n",
        "def create_df(cols,images_path):\n",
        "    df = pd.DataFrame(columns=col)\n",
        "    for path in images_path:\n",
        "        df = add_targets_to_df(df,path)\n",
        "    return df\n"
      ],
      "execution_count": 23,
      "outputs": []
    },
    {
      "cell_type": "code",
      "metadata": {
        "id": "leYs4c4s_6S-"
      },
      "source": [
        "final_df = create_df(col,train_images)\n"
      ],
      "execution_count": 24,
      "outputs": []
    },
    {
      "cell_type": "code",
      "metadata": {
        "colab": {
          "base_uri": "https://localhost:8080/",
          "height": 414
        },
        "id": "IjRNwidxAB6R",
        "outputId": "a9054832-df6e-4a9a-a87e-16f60677967a"
      },
      "source": [
        "final_df"
      ],
      "execution_count": 26,
      "outputs": [
        {
          "output_type": "execute_result",
          "data": {
            "text/html": [
              "<div>\n",
              "<style scoped>\n",
              "    .dataframe tbody tr th:only-of-type {\n",
              "        vertical-align: middle;\n",
              "    }\n",
              "\n",
              "    .dataframe tbody tr th {\n",
              "        vertical-align: top;\n",
              "    }\n",
              "\n",
              "    .dataframe thead th {\n",
              "        text-align: right;\n",
              "    }\n",
              "</style>\n",
              "<table border=\"1\" class=\"dataframe\">\n",
              "  <thead>\n",
              "    <tr style=\"text-align: right;\">\n",
              "      <th></th>\n",
              "      <th>name</th>\n",
              "      <th>class</th>\n",
              "      <th>center_x</th>\n",
              "      <th>center_y</th>\n",
              "      <th>width</th>\n",
              "      <th>height</th>\n",
              "    </tr>\n",
              "  </thead>\n",
              "  <tbody>\n",
              "    <tr>\n",
              "      <th>0</th>\n",
              "      <td>b79ae5b70de58089ead6e32b235e30d3_jpg.rf.68c670de3208dc56613dc9b9f65ec934</td>\n",
              "      <td>2.0</td>\n",
              "      <td>0.769043</td>\n",
              "      <td>0.298105</td>\n",
              "      <td>0.082031</td>\n",
              "      <td>0.209184</td>\n",
              "    </tr>\n",
              "    <tr>\n",
              "      <th>1</th>\n",
              "      <td>b79ae5b70de58089ead6e32b235e30d3_jpg.rf.68c670de3208dc56613dc9b9f65ec934</td>\n",
              "      <td>1.0</td>\n",
              "      <td>0.598633</td>\n",
              "      <td>0.155248</td>\n",
              "      <td>0.050293</td>\n",
              "      <td>0.141399</td>\n",
              "    </tr>\n",
              "    <tr>\n",
              "      <th>2</th>\n",
              "      <td>b79ae5b70de58089ead6e32b235e30d3_jpg.rf.68c670de3208dc56613dc9b9f65ec934</td>\n",
              "      <td>6.0</td>\n",
              "      <td>0.571289</td>\n",
              "      <td>0.077988</td>\n",
              "      <td>0.062500</td>\n",
              "      <td>0.130466</td>\n",
              "    </tr>\n",
              "    <tr>\n",
              "      <th>3</th>\n",
              "      <td>b79ae5b70de58089ead6e32b235e30d3_jpg.rf.68c670de3208dc56613dc9b9f65ec934</td>\n",
              "      <td>6.0</td>\n",
              "      <td>0.520996</td>\n",
              "      <td>0.435860</td>\n",
              "      <td>0.070801</td>\n",
              "      <td>0.156706</td>\n",
              "    </tr>\n",
              "    <tr>\n",
              "      <th>4</th>\n",
              "      <td>b79ae5b70de58089ead6e32b235e30d3_jpg.rf.68c670de3208dc56613dc9b9f65ec934</td>\n",
              "      <td>4.0</td>\n",
              "      <td>0.682129</td>\n",
              "      <td>0.339650</td>\n",
              "      <td>0.057129</td>\n",
              "      <td>0.115889</td>\n",
              "    </tr>\n",
              "    <tr>\n",
              "      <th>...</th>\n",
              "      <td>...</td>\n",
              "      <td>...</td>\n",
              "      <td>...</td>\n",
              "      <td>...</td>\n",
              "      <td>...</td>\n",
              "      <td>...</td>\n",
              "    </tr>\n",
              "    <tr>\n",
              "      <th>2103</th>\n",
              "      <td>IMG_0298_JPG.rf.388fb04c02f369a0c79a524343fe590c</td>\n",
              "      <td>4.0</td>\n",
              "      <td>0.346680</td>\n",
              "      <td>0.437318</td>\n",
              "      <td>0.054688</td>\n",
              "      <td>0.124636</td>\n",
              "    </tr>\n",
              "    <tr>\n",
              "      <th>2104</th>\n",
              "      <td>IMG_0298_JPG.rf.388fb04c02f369a0c79a524343fe590c</td>\n",
              "      <td>10.0</td>\n",
              "      <td>0.354492</td>\n",
              "      <td>0.559038</td>\n",
              "      <td>0.061035</td>\n",
              "      <td>0.124636</td>\n",
              "    </tr>\n",
              "    <tr>\n",
              "      <th>2105</th>\n",
              "      <td>IMG_0298_JPG.rf.388fb04c02f369a0c79a524343fe590c</td>\n",
              "      <td>10.0</td>\n",
              "      <td>0.259766</td>\n",
              "      <td>0.341837</td>\n",
              "      <td>0.061035</td>\n",
              "      <td>0.120262</td>\n",
              "    </tr>\n",
              "    <tr>\n",
              "      <th>2106</th>\n",
              "      <td>IMG_0298_JPG.rf.388fb04c02f369a0c79a524343fe590c</td>\n",
              "      <td>8.0</td>\n",
              "      <td>0.165527</td>\n",
              "      <td>0.404519</td>\n",
              "      <td>0.099121</td>\n",
              "      <td>0.214286</td>\n",
              "    </tr>\n",
              "    <tr>\n",
              "      <th>2107</th>\n",
              "      <td>47e842dd95735a11cf92c0ddf1161193_jpg.rf.fa045b4cdedb6dbeea6226d5e5d58a5c</td>\n",
              "      <td>3.0</td>\n",
              "      <td>0.201172</td>\n",
              "      <td>0.079446</td>\n",
              "      <td>0.056152</td>\n",
              "      <td>0.119534</td>\n",
              "    </tr>\n",
              "  </tbody>\n",
              "</table>\n",
              "<p>2108 rows × 6 columns</p>\n",
              "</div>"
            ],
            "text/plain": [
              "                                                                          name  ...    height\n",
              "0     b79ae5b70de58089ead6e32b235e30d3_jpg.rf.68c670de3208dc56613dc9b9f65ec934  ...  0.209184\n",
              "1     b79ae5b70de58089ead6e32b235e30d3_jpg.rf.68c670de3208dc56613dc9b9f65ec934  ...  0.141399\n",
              "2     b79ae5b70de58089ead6e32b235e30d3_jpg.rf.68c670de3208dc56613dc9b9f65ec934  ...  0.130466\n",
              "3     b79ae5b70de58089ead6e32b235e30d3_jpg.rf.68c670de3208dc56613dc9b9f65ec934  ...  0.156706\n",
              "4     b79ae5b70de58089ead6e32b235e30d3_jpg.rf.68c670de3208dc56613dc9b9f65ec934  ...  0.115889\n",
              "...                                                                        ...  ...       ...\n",
              "2103                          IMG_0298_JPG.rf.388fb04c02f369a0c79a524343fe590c  ...  0.124636\n",
              "2104                          IMG_0298_JPG.rf.388fb04c02f369a0c79a524343fe590c  ...  0.124636\n",
              "2105                          IMG_0298_JPG.rf.388fb04c02f369a0c79a524343fe590c  ...  0.120262\n",
              "2106                          IMG_0298_JPG.rf.388fb04c02f369a0c79a524343fe590c  ...  0.214286\n",
              "2107  47e842dd95735a11cf92c0ddf1161193_jpg.rf.fa045b4cdedb6dbeea6226d5e5d58a5c  ...  0.119534\n",
              "\n",
              "[2108 rows x 6 columns]"
            ]
          },
          "metadata": {
            "tags": []
          },
          "execution_count": 26
        }
      ]
    },
    {
      "cell_type": "code",
      "metadata": {
        "id": "NHK7BoxmBW5k"
      },
      "source": [
        ""
      ],
      "execution_count": null,
      "outputs": []
    }
  ]
}